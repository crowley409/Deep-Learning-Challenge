{
  "cells": [
    {
      "cell_type": "markdown",
      "metadata": {
        "id": "view-in-github",
        "colab_type": "text"
      },
      "source": [
        "<a href=\"https://colab.research.google.com/github/crowley409/Deep-Learning-Challenge/blob/main/Deep_Learning_Challenge.ipynb\" target=\"_parent\"><img src=\"https://colab.research.google.com/assets/colab-badge.svg\" alt=\"Open In Colab\"/></a>"
      ]
    },
    {
      "cell_type": "markdown",
      "metadata": {
        "id": "26WBzNWuNRzZ"
      },
      "source": [
        "## Preprocessing"
      ]
    },
    {
      "cell_type": "code",
      "execution_count": 1,
      "metadata": {
        "colab": {
          "base_uri": "https://localhost:8080/",
          "height": 397
        },
        "id": "LBZqaCpENRzc",
        "outputId": "e7c28417-f1bc-4c22-aede-b47e55df936b"
      },
      "outputs": [
        {
          "output_type": "execute_result",
          "data": {
            "text/plain": [
              "        EIN                                      NAME APPLICATION_TYPE  \\\n",
              "0  10520599              BLUE KNIGHTS MOTORCYCLE CLUB              T10   \n",
              "1  10531628    AMERICAN CHESAPEAKE CLUB CHARITABLE TR               T3   \n",
              "2  10547893        ST CLOUD PROFESSIONAL FIREFIGHTERS               T5   \n",
              "3  10553066            SOUTHSIDE ATHLETIC ASSOCIATION               T3   \n",
              "4  10556103  GENETIC RESEARCH INSTITUTE OF THE DESERT               T3   \n",
              "\n",
              "        AFFILIATION CLASSIFICATION      USE_CASE  ORGANIZATION  STATUS  \\\n",
              "0       Independent          C1000    ProductDev   Association       1   \n",
              "1       Independent          C2000  Preservation  Co-operative       1   \n",
              "2  CompanySponsored          C3000    ProductDev   Association       1   \n",
              "3  CompanySponsored          C2000  Preservation         Trust       1   \n",
              "4       Independent          C1000     Heathcare         Trust       1   \n",
              "\n",
              "      INCOME_AMT SPECIAL_CONSIDERATIONS  ASK_AMT  IS_SUCCESSFUL  \n",
              "0              0                      N     5000              1  \n",
              "1         1-9999                      N   108590              1  \n",
              "2              0                      N     5000              0  \n",
              "3    10000-24999                      N     6692              1  \n",
              "4  100000-499999                      N   142590              1  "
            ],
            "text/html": [
              "\n",
              "  <div id=\"df-7831aa0f-5358-48bb-b172-06cb77cd8091\" class=\"colab-df-container\">\n",
              "    <div>\n",
              "<style scoped>\n",
              "    .dataframe tbody tr th:only-of-type {\n",
              "        vertical-align: middle;\n",
              "    }\n",
              "\n",
              "    .dataframe tbody tr th {\n",
              "        vertical-align: top;\n",
              "    }\n",
              "\n",
              "    .dataframe thead th {\n",
              "        text-align: right;\n",
              "    }\n",
              "</style>\n",
              "<table border=\"1\" class=\"dataframe\">\n",
              "  <thead>\n",
              "    <tr style=\"text-align: right;\">\n",
              "      <th></th>\n",
              "      <th>EIN</th>\n",
              "      <th>NAME</th>\n",
              "      <th>APPLICATION_TYPE</th>\n",
              "      <th>AFFILIATION</th>\n",
              "      <th>CLASSIFICATION</th>\n",
              "      <th>USE_CASE</th>\n",
              "      <th>ORGANIZATION</th>\n",
              "      <th>STATUS</th>\n",
              "      <th>INCOME_AMT</th>\n",
              "      <th>SPECIAL_CONSIDERATIONS</th>\n",
              "      <th>ASK_AMT</th>\n",
              "      <th>IS_SUCCESSFUL</th>\n",
              "    </tr>\n",
              "  </thead>\n",
              "  <tbody>\n",
              "    <tr>\n",
              "      <th>0</th>\n",
              "      <td>10520599</td>\n",
              "      <td>BLUE KNIGHTS MOTORCYCLE CLUB</td>\n",
              "      <td>T10</td>\n",
              "      <td>Independent</td>\n",
              "      <td>C1000</td>\n",
              "      <td>ProductDev</td>\n",
              "      <td>Association</td>\n",
              "      <td>1</td>\n",
              "      <td>0</td>\n",
              "      <td>N</td>\n",
              "      <td>5000</td>\n",
              "      <td>1</td>\n",
              "    </tr>\n",
              "    <tr>\n",
              "      <th>1</th>\n",
              "      <td>10531628</td>\n",
              "      <td>AMERICAN CHESAPEAKE CLUB CHARITABLE TR</td>\n",
              "      <td>T3</td>\n",
              "      <td>Independent</td>\n",
              "      <td>C2000</td>\n",
              "      <td>Preservation</td>\n",
              "      <td>Co-operative</td>\n",
              "      <td>1</td>\n",
              "      <td>1-9999</td>\n",
              "      <td>N</td>\n",
              "      <td>108590</td>\n",
              "      <td>1</td>\n",
              "    </tr>\n",
              "    <tr>\n",
              "      <th>2</th>\n",
              "      <td>10547893</td>\n",
              "      <td>ST CLOUD PROFESSIONAL FIREFIGHTERS</td>\n",
              "      <td>T5</td>\n",
              "      <td>CompanySponsored</td>\n",
              "      <td>C3000</td>\n",
              "      <td>ProductDev</td>\n",
              "      <td>Association</td>\n",
              "      <td>1</td>\n",
              "      <td>0</td>\n",
              "      <td>N</td>\n",
              "      <td>5000</td>\n",
              "      <td>0</td>\n",
              "    </tr>\n",
              "    <tr>\n",
              "      <th>3</th>\n",
              "      <td>10553066</td>\n",
              "      <td>SOUTHSIDE ATHLETIC ASSOCIATION</td>\n",
              "      <td>T3</td>\n",
              "      <td>CompanySponsored</td>\n",
              "      <td>C2000</td>\n",
              "      <td>Preservation</td>\n",
              "      <td>Trust</td>\n",
              "      <td>1</td>\n",
              "      <td>10000-24999</td>\n",
              "      <td>N</td>\n",
              "      <td>6692</td>\n",
              "      <td>1</td>\n",
              "    </tr>\n",
              "    <tr>\n",
              "      <th>4</th>\n",
              "      <td>10556103</td>\n",
              "      <td>GENETIC RESEARCH INSTITUTE OF THE DESERT</td>\n",
              "      <td>T3</td>\n",
              "      <td>Independent</td>\n",
              "      <td>C1000</td>\n",
              "      <td>Heathcare</td>\n",
              "      <td>Trust</td>\n",
              "      <td>1</td>\n",
              "      <td>100000-499999</td>\n",
              "      <td>N</td>\n",
              "      <td>142590</td>\n",
              "      <td>1</td>\n",
              "    </tr>\n",
              "  </tbody>\n",
              "</table>\n",
              "</div>\n",
              "    <div class=\"colab-df-buttons\">\n",
              "\n",
              "  <div class=\"colab-df-container\">\n",
              "    <button class=\"colab-df-convert\" onclick=\"convertToInteractive('df-7831aa0f-5358-48bb-b172-06cb77cd8091')\"\n",
              "            title=\"Convert this dataframe to an interactive table.\"\n",
              "            style=\"display:none;\">\n",
              "\n",
              "  <svg xmlns=\"http://www.w3.org/2000/svg\" height=\"24px\" viewBox=\"0 -960 960 960\">\n",
              "    <path d=\"M120-120v-720h720v720H120Zm60-500h600v-160H180v160Zm220 220h160v-160H400v160Zm0 220h160v-160H400v160ZM180-400h160v-160H180v160Zm440 0h160v-160H620v160ZM180-180h160v-160H180v160Zm440 0h160v-160H620v160Z\"/>\n",
              "  </svg>\n",
              "    </button>\n",
              "\n",
              "  <style>\n",
              "    .colab-df-container {\n",
              "      display:flex;\n",
              "      gap: 12px;\n",
              "    }\n",
              "\n",
              "    .colab-df-convert {\n",
              "      background-color: #E8F0FE;\n",
              "      border: none;\n",
              "      border-radius: 50%;\n",
              "      cursor: pointer;\n",
              "      display: none;\n",
              "      fill: #1967D2;\n",
              "      height: 32px;\n",
              "      padding: 0 0 0 0;\n",
              "      width: 32px;\n",
              "    }\n",
              "\n",
              "    .colab-df-convert:hover {\n",
              "      background-color: #E2EBFA;\n",
              "      box-shadow: 0px 1px 2px rgba(60, 64, 67, 0.3), 0px 1px 3px 1px rgba(60, 64, 67, 0.15);\n",
              "      fill: #174EA6;\n",
              "    }\n",
              "\n",
              "    .colab-df-buttons div {\n",
              "      margin-bottom: 4px;\n",
              "    }\n",
              "\n",
              "    [theme=dark] .colab-df-convert {\n",
              "      background-color: #3B4455;\n",
              "      fill: #D2E3FC;\n",
              "    }\n",
              "\n",
              "    [theme=dark] .colab-df-convert:hover {\n",
              "      background-color: #434B5C;\n",
              "      box-shadow: 0px 1px 3px 1px rgba(0, 0, 0, 0.15);\n",
              "      filter: drop-shadow(0px 1px 2px rgba(0, 0, 0, 0.3));\n",
              "      fill: #FFFFFF;\n",
              "    }\n",
              "  </style>\n",
              "\n",
              "    <script>\n",
              "      const buttonEl =\n",
              "        document.querySelector('#df-7831aa0f-5358-48bb-b172-06cb77cd8091 button.colab-df-convert');\n",
              "      buttonEl.style.display =\n",
              "        google.colab.kernel.accessAllowed ? 'block' : 'none';\n",
              "\n",
              "      async function convertToInteractive(key) {\n",
              "        const element = document.querySelector('#df-7831aa0f-5358-48bb-b172-06cb77cd8091');\n",
              "        const dataTable =\n",
              "          await google.colab.kernel.invokeFunction('convertToInteractive',\n",
              "                                                    [key], {});\n",
              "        if (!dataTable) return;\n",
              "\n",
              "        const docLinkHtml = 'Like what you see? Visit the ' +\n",
              "          '<a target=\"_blank\" href=https://colab.research.google.com/notebooks/data_table.ipynb>data table notebook</a>'\n",
              "          + ' to learn more about interactive tables.';\n",
              "        element.innerHTML = '';\n",
              "        dataTable['output_type'] = 'display_data';\n",
              "        await google.colab.output.renderOutput(dataTable, element);\n",
              "        const docLink = document.createElement('div');\n",
              "        docLink.innerHTML = docLinkHtml;\n",
              "        element.appendChild(docLink);\n",
              "      }\n",
              "    </script>\n",
              "  </div>\n",
              "\n",
              "\n",
              "<div id=\"df-aeb22b5c-a9af-4a28-81f7-b0b3403156a1\">\n",
              "  <button class=\"colab-df-quickchart\" onclick=\"quickchart('df-aeb22b5c-a9af-4a28-81f7-b0b3403156a1')\"\n",
              "            title=\"Suggest charts\"\n",
              "            style=\"display:none;\">\n",
              "\n",
              "<svg xmlns=\"http://www.w3.org/2000/svg\" height=\"24px\"viewBox=\"0 0 24 24\"\n",
              "     width=\"24px\">\n",
              "    <g>\n",
              "        <path d=\"M19 3H5c-1.1 0-2 .9-2 2v14c0 1.1.9 2 2 2h14c1.1 0 2-.9 2-2V5c0-1.1-.9-2-2-2zM9 17H7v-7h2v7zm4 0h-2V7h2v10zm4 0h-2v-4h2v4z\"/>\n",
              "    </g>\n",
              "</svg>\n",
              "  </button>\n",
              "\n",
              "<style>\n",
              "  .colab-df-quickchart {\n",
              "      --bg-color: #E8F0FE;\n",
              "      --fill-color: #1967D2;\n",
              "      --hover-bg-color: #E2EBFA;\n",
              "      --hover-fill-color: #174EA6;\n",
              "      --disabled-fill-color: #AAA;\n",
              "      --disabled-bg-color: #DDD;\n",
              "  }\n",
              "\n",
              "  [theme=dark] .colab-df-quickchart {\n",
              "      --bg-color: #3B4455;\n",
              "      --fill-color: #D2E3FC;\n",
              "      --hover-bg-color: #434B5C;\n",
              "      --hover-fill-color: #FFFFFF;\n",
              "      --disabled-bg-color: #3B4455;\n",
              "      --disabled-fill-color: #666;\n",
              "  }\n",
              "\n",
              "  .colab-df-quickchart {\n",
              "    background-color: var(--bg-color);\n",
              "    border: none;\n",
              "    border-radius: 50%;\n",
              "    cursor: pointer;\n",
              "    display: none;\n",
              "    fill: var(--fill-color);\n",
              "    height: 32px;\n",
              "    padding: 0;\n",
              "    width: 32px;\n",
              "  }\n",
              "\n",
              "  .colab-df-quickchart:hover {\n",
              "    background-color: var(--hover-bg-color);\n",
              "    box-shadow: 0 1px 2px rgba(60, 64, 67, 0.3), 0 1px 3px 1px rgba(60, 64, 67, 0.15);\n",
              "    fill: var(--button-hover-fill-color);\n",
              "  }\n",
              "\n",
              "  .colab-df-quickchart-complete:disabled,\n",
              "  .colab-df-quickchart-complete:disabled:hover {\n",
              "    background-color: var(--disabled-bg-color);\n",
              "    fill: var(--disabled-fill-color);\n",
              "    box-shadow: none;\n",
              "  }\n",
              "\n",
              "  .colab-df-spinner {\n",
              "    border: 2px solid var(--fill-color);\n",
              "    border-color: transparent;\n",
              "    border-bottom-color: var(--fill-color);\n",
              "    animation:\n",
              "      spin 1s steps(1) infinite;\n",
              "  }\n",
              "\n",
              "  @keyframes spin {\n",
              "    0% {\n",
              "      border-color: transparent;\n",
              "      border-bottom-color: var(--fill-color);\n",
              "      border-left-color: var(--fill-color);\n",
              "    }\n",
              "    20% {\n",
              "      border-color: transparent;\n",
              "      border-left-color: var(--fill-color);\n",
              "      border-top-color: var(--fill-color);\n",
              "    }\n",
              "    30% {\n",
              "      border-color: transparent;\n",
              "      border-left-color: var(--fill-color);\n",
              "      border-top-color: var(--fill-color);\n",
              "      border-right-color: var(--fill-color);\n",
              "    }\n",
              "    40% {\n",
              "      border-color: transparent;\n",
              "      border-right-color: var(--fill-color);\n",
              "      border-top-color: var(--fill-color);\n",
              "    }\n",
              "    60% {\n",
              "      border-color: transparent;\n",
              "      border-right-color: var(--fill-color);\n",
              "    }\n",
              "    80% {\n",
              "      border-color: transparent;\n",
              "      border-right-color: var(--fill-color);\n",
              "      border-bottom-color: var(--fill-color);\n",
              "    }\n",
              "    90% {\n",
              "      border-color: transparent;\n",
              "      border-bottom-color: var(--fill-color);\n",
              "    }\n",
              "  }\n",
              "</style>\n",
              "\n",
              "  <script>\n",
              "    async function quickchart(key) {\n",
              "      const quickchartButtonEl =\n",
              "        document.querySelector('#' + key + ' button');\n",
              "      quickchartButtonEl.disabled = true;  // To prevent multiple clicks.\n",
              "      quickchartButtonEl.classList.add('colab-df-spinner');\n",
              "      try {\n",
              "        const charts = await google.colab.kernel.invokeFunction(\n",
              "            'suggestCharts', [key], {});\n",
              "      } catch (error) {\n",
              "        console.error('Error during call to suggestCharts:', error);\n",
              "      }\n",
              "      quickchartButtonEl.classList.remove('colab-df-spinner');\n",
              "      quickchartButtonEl.classList.add('colab-df-quickchart-complete');\n",
              "    }\n",
              "    (() => {\n",
              "      let quickchartButtonEl =\n",
              "        document.querySelector('#df-aeb22b5c-a9af-4a28-81f7-b0b3403156a1 button');\n",
              "      quickchartButtonEl.style.display =\n",
              "        google.colab.kernel.accessAllowed ? 'block' : 'none';\n",
              "    })();\n",
              "  </script>\n",
              "</div>\n",
              "\n",
              "    </div>\n",
              "  </div>\n"
            ]
          },
          "metadata": {},
          "execution_count": 1
        }
      ],
      "source": [
        "# Import our dependencies\n",
        "from sklearn.model_selection import train_test_split\n",
        "from sklearn.preprocessing import StandardScaler\n",
        "import pandas as pd\n",
        "import tensorflow as tf\n",
        "\n",
        "#  Import and read the charity_data.csv.\n",
        "import pandas as pd\n",
        "application_df = pd.read_csv(\"https://static.bc-edx.com/data/dl-1-2/m21/lms/starter/charity_data.csv\")\n",
        "application_df.head()"
      ]
    },
    {
      "cell_type": "code",
      "execution_count": 2,
      "metadata": {
        "id": "MP8qTYcENRzg"
      },
      "outputs": [],
      "source": [
        "# Drop the non-beneficial ID columns, 'EIN' and 'NAME'.\n",
        "application_df = application_df.drop(columns=[\"EIN\", \"NAME\"])"
      ]
    },
    {
      "cell_type": "code",
      "execution_count": 3,
      "metadata": {
        "colab": {
          "base_uri": "https://localhost:8080/"
        },
        "id": "fPUendj6NRzg",
        "outputId": "1052b8d0-7929-4b2a-c882-8d6b5d40f0d3"
      },
      "outputs": [
        {
          "output_type": "stream",
          "name": "stdout",
          "text": [
            "Number of Unique Values in Each Column:\n",
            "APPLICATION_TYPE            17\n",
            "AFFILIATION                  6\n",
            "CLASSIFICATION              71\n",
            "USE_CASE                     5\n",
            "ORGANIZATION                 4\n",
            "STATUS                       2\n",
            "INCOME_AMT                   9\n",
            "SPECIAL_CONSIDERATIONS       2\n",
            "ASK_AMT                   8747\n",
            "IS_SUCCESSFUL                2\n",
            "dtype: int64\n"
          ]
        }
      ],
      "source": [
        "# Determine the number of unique values in each column.\n",
        "unique_value_counts = application_df.nunique()\n",
        "\n",
        "print(\"Number of Unique Values in Each Column:\")\n",
        "print(unique_value_counts)"
      ]
    },
    {
      "cell_type": "code",
      "execution_count": 4,
      "metadata": {
        "colab": {
          "base_uri": "https://localhost:8080/"
        },
        "id": "L6R-BnCdNRzh",
        "outputId": "80fa9fc0-66cf-4a19-f65d-5af51a1706bf"
      },
      "outputs": [
        {
          "output_type": "stream",
          "name": "stdout",
          "text": [
            "APPLICATION_TYPE Value Counts:\n",
            "T3     27037\n",
            "T4      1542\n",
            "T6      1216\n",
            "T5      1173\n",
            "T19     1065\n",
            "T8       737\n",
            "T7       725\n",
            "T10      528\n",
            "T9       156\n",
            "T13       66\n",
            "T12       27\n",
            "T2        16\n",
            "T25        3\n",
            "T14        3\n",
            "T29        2\n",
            "T15        2\n",
            "T17        1\n",
            "Name: APPLICATION_TYPE, dtype: int64\n"
          ]
        }
      ],
      "source": [
        "# Look at APPLICATION_TYPE value counts for binning\n",
        "application_type_counts = application_df['APPLICATION_TYPE'].value_counts()\n",
        "\n",
        "print(\"APPLICATION_TYPE Value Counts:\")\n",
        "print(application_type_counts)"
      ]
    },
    {
      "cell_type": "code",
      "execution_count": 5,
      "metadata": {
        "colab": {
          "base_uri": "https://localhost:8080/"
        },
        "id": "eQ56UoAfNRzh",
        "outputId": "2a14fb1a-4aba-40b0-da3c-8804f163cb66"
      },
      "outputs": [
        {
          "output_type": "stream",
          "name": "stdout",
          "text": [
            "Updated APPLICATION_TYPE Value Counts:\n",
            "T3       27037\n",
            "T4        1542\n",
            "T6        1216\n",
            "T5        1173\n",
            "T19       1065\n",
            "T8         737\n",
            "T7         725\n",
            "T10        528\n",
            "Other      276\n",
            "Name: APPLICATION_TYPE, dtype: int64\n"
          ]
        }
      ],
      "source": [
        "# Choose a cutoff value and create a list of application types to be replaced\n",
        "# use the variable name `application_types_to_replace`\n",
        "cutoff_value = 500\n",
        "\n",
        "application_types_to_replace = list(application_type_counts[application_type_counts < cutoff_value].index)\n",
        "\n",
        "# Replace in dataframe\n",
        "for app in application_types_to_replace:\n",
        "    application_df['APPLICATION_TYPE'] = application_df['APPLICATION_TYPE'].replace(app,\"Other\")\n",
        "\n",
        "# Check to make sure binning was successful\n",
        "print(\"Updated APPLICATION_TYPE Value Counts:\")\n",
        "print(application_df['APPLICATION_TYPE'].value_counts())"
      ]
    },
    {
      "cell_type": "code",
      "execution_count": 6,
      "metadata": {
        "colab": {
          "base_uri": "https://localhost:8080/"
        },
        "id": "0grfzTLcNRzi",
        "outputId": "478235ad-f11e-4301-9e80-99afd24edf1f"
      },
      "outputs": [
        {
          "output_type": "stream",
          "name": "stdout",
          "text": [
            "CLASSIFICATION Value Counts:\n",
            "C1000    17326\n",
            "C2000     6074\n",
            "C1200     4837\n",
            "C3000     1918\n",
            "C2100     1883\n",
            "         ...  \n",
            "C4120        1\n",
            "C8210        1\n",
            "C2561        1\n",
            "C4500        1\n",
            "C2150        1\n",
            "Name: CLASSIFICATION, Length: 71, dtype: int64\n"
          ]
        }
      ],
      "source": [
        "# Look at CLASSIFICATION value counts for binning\n",
        "classification_counts = application_df['CLASSIFICATION'].value_counts()\n",
        "\n",
        "print(\"CLASSIFICATION Value Counts:\")\n",
        "print(classification_counts)"
      ]
    },
    {
      "cell_type": "code",
      "execution_count": 7,
      "metadata": {
        "colab": {
          "base_uri": "https://localhost:8080/"
        },
        "id": "bu_Ky_i6NRzj",
        "outputId": "55e2eec8-c134-4c04-bb83-5cbd757223d1"
      },
      "outputs": [
        {
          "output_type": "stream",
          "name": "stdout",
          "text": [
            "CLASSIFICATION Value Counts (>1):\n",
            "C1000    17326\n",
            "C2000     6074\n",
            "C1200     4837\n",
            "C3000     1918\n",
            "C2100     1883\n",
            "C7000      777\n",
            "C1700      287\n",
            "C4000      194\n",
            "C5000      116\n",
            "C1270      114\n",
            "C2700      104\n",
            "C2800       95\n",
            "C7100       75\n",
            "C1300       58\n",
            "C1280       50\n",
            "C1230       36\n",
            "C1400       34\n",
            "C7200       32\n",
            "C2300       32\n",
            "C1240       30\n",
            "C8000       20\n",
            "C7120       18\n",
            "C1500       16\n",
            "C1800       15\n",
            "C6000       15\n",
            "C1250       14\n",
            "C8200       11\n",
            "C1238       10\n",
            "C1278       10\n",
            "C1235        9\n",
            "C1237        9\n",
            "C7210        7\n",
            "C2400        6\n",
            "C1720        6\n",
            "C4100        6\n",
            "C1257        5\n",
            "C1600        5\n",
            "C1260        3\n",
            "C2710        3\n",
            "C0           3\n",
            "C3200        2\n",
            "C1234        2\n",
            "C1246        2\n",
            "C1267        2\n",
            "C1256        2\n",
            "Name: CLASSIFICATION, dtype: int64\n"
          ]
        }
      ],
      "source": [
        "# You may find it helpful to look at CLASSIFICATION value counts >1\n",
        "classification_counts_gt1 = classification_counts[classification_counts > 1]\n",
        "\n",
        "print(\"CLASSIFICATION Value Counts (>1):\")\n",
        "print(classification_counts_gt1)"
      ]
    },
    {
      "cell_type": "code",
      "execution_count": 8,
      "metadata": {
        "colab": {
          "base_uri": "https://localhost:8080/"
        },
        "id": "i4TP8qxVNRzj",
        "outputId": "e9af73b4-6a96-4890-e56e-de7f3fd7ca42"
      },
      "outputs": [
        {
          "output_type": "stream",
          "name": "stdout",
          "text": [
            "Updated CLASSIFICATION Value Counts:\n",
            "C1000    17326\n",
            "C2000     6074\n",
            "C1200     4837\n",
            "C3000     1918\n",
            "C2100     1883\n",
            "C7000      777\n",
            "Other      669\n",
            "C1700      287\n",
            "C4000      194\n",
            "C5000      116\n",
            "C1270      114\n",
            "C2700      104\n",
            "Name: CLASSIFICATION, dtype: int64\n"
          ]
        }
      ],
      "source": [
        "# Choose a cutoff value and create a list of classifications to be replaced\n",
        "# use the variable name `classifications_to_replace`\n",
        "classification_cutoff_value = 100\n",
        "\n",
        "classifications_to_replace = list(classification_counts[classification_counts < classification_cutoff_value].index)\n",
        "\n",
        "# Replace in dataframe\n",
        "for cls in classifications_to_replace:\n",
        "    application_df['CLASSIFICATION'] = application_df['CLASSIFICATION'].replace(cls,\"Other\")\n",
        "\n",
        "# Check to make sure binning was successful\n",
        "print(\"Updated CLASSIFICATION Value Counts:\")\n",
        "print(application_df['CLASSIFICATION'].value_counts())"
      ]
    },
    {
      "cell_type": "code",
      "execution_count": 9,
      "metadata": {
        "colab": {
          "base_uri": "https://localhost:8080/"
        },
        "id": "-kwuPrIgNRzk",
        "outputId": "1dfa6bbd-c7d6-4d40-bee9-b42dfa8612b2"
      },
      "outputs": [
        {
          "output_type": "stream",
          "name": "stdout",
          "text": [
            "Updated DataFrame after One-Hot Encoding:\n",
            "   STATUS  ASK_AMT  IS_SUCCESSFUL  APPLICATION_TYPE_Other  \\\n",
            "0       1     5000              1                       0   \n",
            "1       1   108590              1                       0   \n",
            "2       1     5000              0                       0   \n",
            "3       1     6692              1                       0   \n",
            "4       1   142590              1                       0   \n",
            "\n",
            "   APPLICATION_TYPE_T10  APPLICATION_TYPE_T19  APPLICATION_TYPE_T3  \\\n",
            "0                     1                     0                    0   \n",
            "1                     0                     0                    1   \n",
            "2                     0                     0                    0   \n",
            "3                     0                     0                    1   \n",
            "4                     0                     0                    1   \n",
            "\n",
            "   APPLICATION_TYPE_T4  APPLICATION_TYPE_T5  APPLICATION_TYPE_T6  ...  \\\n",
            "0                    0                    0                    0  ...   \n",
            "1                    0                    0                    0  ...   \n",
            "2                    0                    1                    0  ...   \n",
            "3                    0                    0                    0  ...   \n",
            "4                    0                    0                    0  ...   \n",
            "\n",
            "   INCOME_AMT_1-9999  INCOME_AMT_10000-24999  INCOME_AMT_100000-499999  \\\n",
            "0                  0                       0                         0   \n",
            "1                  1                       0                         0   \n",
            "2                  0                       0                         0   \n",
            "3                  0                       1                         0   \n",
            "4                  0                       0                         1   \n",
            "\n",
            "   INCOME_AMT_10M-50M  INCOME_AMT_1M-5M  INCOME_AMT_25000-99999  \\\n",
            "0                   0                 0                       0   \n",
            "1                   0                 0                       0   \n",
            "2                   0                 0                       0   \n",
            "3                   0                 0                       0   \n",
            "4                   0                 0                       0   \n",
            "\n",
            "   INCOME_AMT_50M+  INCOME_AMT_5M-10M  SPECIAL_CONSIDERATIONS_N  \\\n",
            "0                0                  0                         1   \n",
            "1                0                  0                         1   \n",
            "2                0                  0                         1   \n",
            "3                0                  0                         1   \n",
            "4                0                  0                         1   \n",
            "\n",
            "   SPECIAL_CONSIDERATIONS_Y  \n",
            "0                         0  \n",
            "1                         0  \n",
            "2                         0  \n",
            "3                         0  \n",
            "4                         0  \n",
            "\n",
            "[5 rows x 50 columns]\n"
          ]
        }
      ],
      "source": [
        "# Convert categorical data to numeric with `pd.get_dummies`\n",
        "application_df = pd.get_dummies(application_df, columns=[\"APPLICATION_TYPE\", \"AFFILIATION\", \"CLASSIFICATION\", \"USE_CASE\", \"ORGANIZATION\", \"INCOME_AMT\", \"SPECIAL_CONSIDERATIONS\"])\n",
        "\n",
        "print(\"Updated DataFrame after One-Hot Encoding:\")\n",
        "print(application_df.head())"
      ]
    },
    {
      "cell_type": "code",
      "execution_count": 10,
      "metadata": {
        "id": "6OwMGaIfNRzk"
      },
      "outputs": [],
      "source": [
        "# Split our preprocessed data into our features and target arrays\n",
        "X = application_df.drop(columns=\"IS_SUCCESSFUL\")\n",
        "y = application_df[\"IS_SUCCESSFUL\"]\n",
        "\n",
        "# Split the preprocessed data into a training and testing dataset\n",
        "X_train, X_test, y_train, y_test = train_test_split(X, y, random_state=42, stratify=y)"
      ]
    },
    {
      "cell_type": "code",
      "execution_count": 11,
      "metadata": {
        "id": "H9MIazuvNRzl"
      },
      "outputs": [],
      "source": [
        "# Create a StandardScaler instances\n",
        "scaler = StandardScaler()\n",
        "\n",
        "# Fit the StandardScaler\n",
        "X_scaler = scaler.fit(X_train)\n",
        "\n",
        "# Scale the data\n",
        "X_train_scaled = X_scaler.transform(X_train)\n",
        "X_test_scaled = X_scaler.transform(X_test)"
      ]
    },
    {
      "cell_type": "markdown",
      "metadata": {
        "id": "PdlqJMtENRzm"
      },
      "source": [
        "## Compile, Train and Evaluate the Model"
      ]
    },
    {
      "cell_type": "code",
      "execution_count": 13,
      "metadata": {
        "colab": {
          "base_uri": "https://localhost:8080/"
        },
        "id": "huJ1Cl0CNRzm",
        "outputId": "bea2ced7-1137-462e-b64f-fb077a262b2c"
      },
      "outputs": [
        {
          "output_type": "stream",
          "name": "stdout",
          "text": [
            "Model: \"sequential_1\"\n",
            "_________________________________________________________________\n",
            " Layer (type)                Output Shape              Param #   \n",
            "=================================================================\n",
            " dense_3 (Dense)             (None, 8)                 400       \n",
            "                                                                 \n",
            " dense_4 (Dense)             (None, 5)                 45        \n",
            "                                                                 \n",
            " dense_5 (Dense)             (None, 1)                 6         \n",
            "                                                                 \n",
            "=================================================================\n",
            "Total params: 451 (1.76 KB)\n",
            "Trainable params: 451 (1.76 KB)\n",
            "Non-trainable params: 0 (0.00 Byte)\n",
            "_________________________________________________________________\n"
          ]
        }
      ],
      "source": [
        "# Define the model - deep neural net, i.e., the number of input features and hidden nodes for each layer.\n",
        "\n",
        "nn = tf.keras.models.Sequential()\n",
        "\n",
        "# First hidden layer\n",
        "nn.add(tf.keras.layers.Dense(units=8, activation='relu', input_dim=len(X_train.columns)))\n",
        "\n",
        "# Second hidden layer\n",
        "nn.add(tf.keras.layers.Dense(units=5, activation='relu'))\n",
        "\n",
        "# Output layer\n",
        "nn.add(tf.keras.layers.Dense(units=1, activation='sigmoid'))\n",
        "\n",
        "# Check the structure of the model\n",
        "nn.summary()"
      ]
    },
    {
      "cell_type": "code",
      "execution_count": 14,
      "metadata": {
        "id": "cZ6IaX5XNRzn"
      },
      "outputs": [],
      "source": [
        "# Compile the model\n",
        "nn.compile(optimizer='adam', loss='binary_crossentropy', metrics=['accuracy'])"
      ]
    },
    {
      "cell_type": "code",
      "execution_count": 15,
      "metadata": {
        "colab": {
          "base_uri": "https://localhost:8080/"
        },
        "id": "aLgLrPFrNRzn",
        "outputId": "bab9078d-46db-43be-b91b-2a029333234b"
      },
      "outputs": [
        {
          "output_type": "stream",
          "name": "stdout",
          "text": [
            "Epoch 1/10\n",
            "804/804 - 3s - loss: 0.6054 - accuracy: 0.6930 - 3s/epoch - 4ms/step\n",
            "Epoch 2/10\n",
            "804/804 - 1s - loss: 0.5654 - accuracy: 0.7261 - 1s/epoch - 2ms/step\n",
            "Epoch 3/10\n",
            "804/804 - 1s - loss: 0.5598 - accuracy: 0.7277 - 1s/epoch - 2ms/step\n",
            "Epoch 4/10\n",
            "804/804 - 1s - loss: 0.5570 - accuracy: 0.7290 - 1s/epoch - 2ms/step\n",
            "Epoch 5/10\n",
            "804/804 - 1s - loss: 0.5554 - accuracy: 0.7296 - 1s/epoch - 2ms/step\n",
            "Epoch 6/10\n",
            "804/804 - 1s - loss: 0.5538 - accuracy: 0.7310 - 1s/epoch - 2ms/step\n",
            "Epoch 7/10\n",
            "804/804 - 1s - loss: 0.5519 - accuracy: 0.7329 - 1s/epoch - 2ms/step\n",
            "Epoch 8/10\n",
            "804/804 - 1s - loss: 0.5515 - accuracy: 0.7323 - 1s/epoch - 2ms/step\n",
            "Epoch 9/10\n",
            "804/804 - 1s - loss: 0.5507 - accuracy: 0.7322 - 1s/epoch - 2ms/step\n",
            "Epoch 10/10\n",
            "804/804 - 1s - loss: 0.5496 - accuracy: 0.7328 - 1s/epoch - 2ms/step\n"
          ]
        }
      ],
      "source": [
        "# Train the model\n",
        "fit_model = nn.fit(X_train_scaled, y_train, epochs=10, shuffle=True, verbose=2)"
      ]
    },
    {
      "cell_type": "code",
      "execution_count": 16,
      "metadata": {
        "colab": {
          "base_uri": "https://localhost:8080/"
        },
        "id": "9OBaJoqjNRzo",
        "outputId": "5ee8a41c-e607-4e3f-c28d-f741d152bb97"
      },
      "outputs": [
        {
          "output_type": "stream",
          "name": "stdout",
          "text": [
            "268/268 - 1s - loss: 0.5580 - accuracy: 0.7234 - 999ms/epoch - 4ms/step\n",
            "Loss: 0.5580171346664429, Accuracy: 0.7233819365501404\n"
          ]
        }
      ],
      "source": [
        "# Evaluate the model using the test data\n",
        "model_loss, model_accuracy = nn.evaluate(X_test_scaled,y_test,verbose=2)\n",
        "print(f\"Loss: {model_loss}, Accuracy: {model_accuracy}\")"
      ]
    },
    {
      "cell_type": "code",
      "execution_count": 17,
      "metadata": {
        "colab": {
          "base_uri": "https://localhost:8080/"
        },
        "id": "3N_zZ790NRzp",
        "outputId": "42d95d1a-b5da-4726-ec17-8f90bf928bd6"
      },
      "outputs": [
        {
          "output_type": "stream",
          "name": "stderr",
          "text": [
            "/usr/local/lib/python3.10/dist-packages/keras/src/engine/training.py:3079: UserWarning: You are saving your model as an HDF5 file via `model.save()`. This file format is considered legacy. We recommend using instead the native Keras format, e.g. `model.save('my_model.keras')`.\n",
            "  saving_api.save_model(\n"
          ]
        }
      ],
      "source": [
        "# Export our model to HDF5 file\n",
        "nn.save(\"AlphabetSoutCharity.h5\")"
      ]
    },
    {
      "cell_type": "code",
      "source": [
        "# Start of optimization\n",
        "optimized_nn = tf.keras.models.Sequential()\n",
        "optimized_nn.add(tf.keras.layers.Dense(units=16, activation='relu', input_dim=len(X_train.columns)))\n",
        "optimized_nn.add(tf.keras.layers.Dense(units=10, activation='relu'))\n",
        "optimized_nn.add(tf.keras.layers.Dense(units=5, activation='relu'))\n",
        "optimized_nn.add(tf.keras.layers.Dense(units=1, activation='sigmoid'))"
      ],
      "metadata": {
        "id": "lQVLRurcSlq6"
      },
      "execution_count": 18,
      "outputs": []
    },
    {
      "cell_type": "code",
      "source": [
        "# Compilation of optimized nn\n",
        "optimized_nn.compile(optimizer='adam', loss='binary_crossentropy', metrics=['accuracy'])"
      ],
      "metadata": {
        "id": "GYVOcu1dSxJ-"
      },
      "execution_count": 19,
      "outputs": []
    },
    {
      "cell_type": "code",
      "source": [
        "# Optimized model training\n",
        "optimized_fit_model = optimized_nn.fit(X_train_scaled, y_train, epochs=20, shuffle=True, verbose=2, validation_data=(X_test_scaled, y_test))"
      ],
      "metadata": {
        "colab": {
          "base_uri": "https://localhost:8080/"
        },
        "id": "PdBhvQmlS2OG",
        "outputId": "f33eae4f-182b-445a-acc6-4d639fd60c93"
      },
      "execution_count": 20,
      "outputs": [
        {
          "output_type": "stream",
          "name": "stdout",
          "text": [
            "Epoch 1/20\n",
            "804/804 - 3s - loss: 0.6120 - accuracy: 0.7041 - val_loss: 0.5765 - val_accuracy: 0.7198 - 3s/epoch - 4ms/step\n",
            "Epoch 2/20\n",
            "804/804 - 2s - loss: 0.5631 - accuracy: 0.7289 - val_loss: 0.5625 - val_accuracy: 0.7209 - 2s/epoch - 2ms/step\n",
            "Epoch 3/20\n",
            "804/804 - 2s - loss: 0.5537 - accuracy: 0.7301 - val_loss: 0.5635 - val_accuracy: 0.7187 - 2s/epoch - 2ms/step\n",
            "Epoch 4/20\n",
            "804/804 - 2s - loss: 0.5515 - accuracy: 0.7316 - val_loss: 0.5588 - val_accuracy: 0.7195 - 2s/epoch - 3ms/step\n",
            "Epoch 5/20\n",
            "804/804 - 2s - loss: 0.5498 - accuracy: 0.7325 - val_loss: 0.5575 - val_accuracy: 0.7221 - 2s/epoch - 3ms/step\n",
            "Epoch 6/20\n",
            "804/804 - 2s - loss: 0.5488 - accuracy: 0.7341 - val_loss: 0.5580 - val_accuracy: 0.7235 - 2s/epoch - 2ms/step\n",
            "Epoch 7/20\n",
            "804/804 - 2s - loss: 0.5474 - accuracy: 0.7346 - val_loss: 0.5575 - val_accuracy: 0.7219 - 2s/epoch - 2ms/step\n",
            "Epoch 8/20\n",
            "804/804 - 2s - loss: 0.5471 - accuracy: 0.7347 - val_loss: 0.5575 - val_accuracy: 0.7236 - 2s/epoch - 2ms/step\n",
            "Epoch 9/20\n",
            "804/804 - 2s - loss: 0.5464 - accuracy: 0.7349 - val_loss: 0.5570 - val_accuracy: 0.7219 - 2s/epoch - 2ms/step\n",
            "Epoch 10/20\n",
            "804/804 - 2s - loss: 0.5457 - accuracy: 0.7342 - val_loss: 0.5575 - val_accuracy: 0.7235 - 2s/epoch - 2ms/step\n",
            "Epoch 11/20\n",
            "804/804 - 2s - loss: 0.5451 - accuracy: 0.7345 - val_loss: 0.5556 - val_accuracy: 0.7228 - 2s/epoch - 3ms/step\n",
            "Epoch 12/20\n",
            "804/804 - 3s - loss: 0.5449 - accuracy: 0.7339 - val_loss: 0.5566 - val_accuracy: 0.7227 - 3s/epoch - 3ms/step\n",
            "Epoch 13/20\n",
            "804/804 - 2s - loss: 0.5440 - accuracy: 0.7353 - val_loss: 0.5554 - val_accuracy: 0.7230 - 2s/epoch - 2ms/step\n",
            "Epoch 14/20\n",
            "804/804 - 2s - loss: 0.5438 - accuracy: 0.7350 - val_loss: 0.5580 - val_accuracy: 0.7221 - 2s/epoch - 2ms/step\n",
            "Epoch 15/20\n",
            "804/804 - 2s - loss: 0.5435 - accuracy: 0.7351 - val_loss: 0.5553 - val_accuracy: 0.7220 - 2s/epoch - 3ms/step\n",
            "Epoch 16/20\n",
            "804/804 - 2s - loss: 0.5435 - accuracy: 0.7356 - val_loss: 0.5575 - val_accuracy: 0.7233 - 2s/epoch - 2ms/step\n",
            "Epoch 17/20\n",
            "804/804 - 2s - loss: 0.5429 - accuracy: 0.7367 - val_loss: 0.5591 - val_accuracy: 0.7231 - 2s/epoch - 3ms/step\n",
            "Epoch 18/20\n",
            "804/804 - 2s - loss: 0.5431 - accuracy: 0.7367 - val_loss: 0.5540 - val_accuracy: 0.7213 - 2s/epoch - 3ms/step\n",
            "Epoch 19/20\n",
            "804/804 - 3s - loss: 0.5426 - accuracy: 0.7349 - val_loss: 0.5579 - val_accuracy: 0.7231 - 3s/epoch - 3ms/step\n",
            "Epoch 20/20\n",
            "804/804 - 3s - loss: 0.5425 - accuracy: 0.7363 - val_loss: 0.5584 - val_accuracy: 0.7245 - 3s/epoch - 3ms/step\n"
          ]
        }
      ]
    },
    {
      "cell_type": "code",
      "source": [
        "# Evaluate the model using the optimized data\n",
        "model_loss, model_accuracy = optimized_nn.evaluate(X_test_scaled,y_test,verbose=2)\n",
        "print(f\"Loss: {model_loss}, Accuracy: {model_accuracy}\")"
      ],
      "metadata": {
        "colab": {
          "base_uri": "https://localhost:8080/"
        },
        "id": "HsDCuISyTQtf",
        "outputId": "9f0a94a2-dd94-4f3e-a7a0-24137c0eae98"
      },
      "execution_count": 21,
      "outputs": [
        {
          "output_type": "stream",
          "name": "stdout",
          "text": [
            "268/268 - 0s - loss: 0.5584 - accuracy: 0.7245 - 382ms/epoch - 1ms/step\n",
            "Loss: 0.5584132075309753, Accuracy: 0.7245481014251709\n"
          ]
        }
      ]
    },
    {
      "cell_type": "code",
      "source": [
        "from tensorflow.keras.layers import BatchNormalization, Dropout\n",
        "\n",
        "# Optimized model with batch normalization and dropout\n",
        "optimized_nn_2 = tf.keras.models.Sequential()\n",
        "optimized_nn_2.add(tf.keras.layers.Dense(units=16, activation='relu', input_dim=len(X_train.columns)))\n",
        "optimized_nn_2.add(BatchNormalization())\n",
        "optimized_nn_2.add(Dropout(0.5))\n",
        "optimized_nn_2.add(tf.keras.layers.Dense(units=10, activation='relu'))\n",
        "optimized_nn_2.add(BatchNormalization())\n",
        "optimized_nn_2.add(Dropout(0.5))\n",
        "optimized_nn_2.add(tf.keras.layers.Dense(units=5, activation='relu'))\n",
        "optimized_nn_2.add(BatchNormalization())\n",
        "optimized_nn_2.add(Dropout(0.5))\n",
        "optimized_nn_2.add(tf.keras.layers.Dense(units=1, activation='sigmoid'))"
      ],
      "metadata": {
        "id": "Fi1eVooeTsi9"
      },
      "execution_count": 22,
      "outputs": []
    },
    {
      "cell_type": "code",
      "source": [
        "# Compile\n",
        "optimized_nn_2.compile(optimizer='adam', loss='binary_crossentropy', metrics=['accuracy'])"
      ],
      "metadata": {
        "id": "1s4AenZ3UAXV"
      },
      "execution_count": 23,
      "outputs": []
    },
    {
      "cell_type": "code",
      "source": [
        "# Train\n",
        "optimized_fit_model_2 = optimized_nn_2.fit(X_train_scaled, y_train, epochs=20, shuffle=True, verbose=2, validation_data=(X_test_scaled, y_test))"
      ],
      "metadata": {
        "colab": {
          "base_uri": "https://localhost:8080/"
        },
        "id": "gQaUJMOvUB7u",
        "outputId": "5cc8f891-93a3-4a93-b19f-08fce12824f3"
      },
      "execution_count": 24,
      "outputs": [
        {
          "output_type": "stream",
          "name": "stdout",
          "text": [
            "Epoch 1/20\n",
            "804/804 - 5s - loss: 0.7354 - accuracy: 0.5648 - val_loss: 0.6453 - val_accuracy: 0.6675 - 5s/epoch - 6ms/step\n",
            "Epoch 2/20\n",
            "804/804 - 3s - loss: 0.6607 - accuracy: 0.6167 - val_loss: 0.6211 - val_accuracy: 0.7003 - 3s/epoch - 4ms/step\n",
            "Epoch 3/20\n",
            "804/804 - 3s - loss: 0.6362 - accuracy: 0.6593 - val_loss: 0.6055 - val_accuracy: 0.7040 - 3s/epoch - 4ms/step\n",
            "Epoch 4/20\n",
            "804/804 - 2s - loss: 0.6270 - accuracy: 0.6714 - val_loss: 0.5951 - val_accuracy: 0.7099 - 2s/epoch - 3ms/step\n",
            "Epoch 5/20\n",
            "804/804 - 2s - loss: 0.6203 - accuracy: 0.6848 - val_loss: 0.5885 - val_accuracy: 0.7167 - 2s/epoch - 3ms/step\n",
            "Epoch 6/20\n",
            "804/804 - 3s - loss: 0.6147 - accuracy: 0.6930 - val_loss: 0.5853 - val_accuracy: 0.7159 - 3s/epoch - 3ms/step\n",
            "Epoch 7/20\n",
            "804/804 - 3s - loss: 0.6089 - accuracy: 0.7023 - val_loss: 0.5796 - val_accuracy: 0.7205 - 3s/epoch - 4ms/step\n",
            "Epoch 8/20\n",
            "804/804 - 3s - loss: 0.6048 - accuracy: 0.7056 - val_loss: 0.5778 - val_accuracy: 0.7216 - 3s/epoch - 4ms/step\n",
            "Epoch 9/20\n",
            "804/804 - 3s - loss: 0.6006 - accuracy: 0.7099 - val_loss: 0.5742 - val_accuracy: 0.7207 - 3s/epoch - 3ms/step\n",
            "Epoch 10/20\n",
            "804/804 - 3s - loss: 0.5993 - accuracy: 0.7098 - val_loss: 0.5738 - val_accuracy: 0.7184 - 3s/epoch - 3ms/step\n",
            "Epoch 11/20\n",
            "804/804 - 3s - loss: 0.5977 - accuracy: 0.7088 - val_loss: 0.5703 - val_accuracy: 0.7197 - 3s/epoch - 3ms/step\n",
            "Epoch 12/20\n",
            "804/804 - 3s - loss: 0.5963 - accuracy: 0.7104 - val_loss: 0.5700 - val_accuracy: 0.7217 - 3s/epoch - 3ms/step\n",
            "Epoch 13/20\n",
            "804/804 - 3s - loss: 0.5979 - accuracy: 0.7107 - val_loss: 0.5715 - val_accuracy: 0.7224 - 3s/epoch - 4ms/step\n",
            "Epoch 14/20\n",
            "804/804 - 2s - loss: 0.5937 - accuracy: 0.7164 - val_loss: 0.5689 - val_accuracy: 0.7223 - 2s/epoch - 3ms/step\n",
            "Epoch 15/20\n",
            "804/804 - 3s - loss: 0.5951 - accuracy: 0.7121 - val_loss: 0.5687 - val_accuracy: 0.7197 - 3s/epoch - 3ms/step\n",
            "Epoch 16/20\n",
            "804/804 - 3s - loss: 0.5938 - accuracy: 0.7118 - val_loss: 0.5685 - val_accuracy: 0.7223 - 3s/epoch - 3ms/step\n",
            "Epoch 17/20\n",
            "804/804 - 3s - loss: 0.5935 - accuracy: 0.7160 - val_loss: 0.5663 - val_accuracy: 0.7229 - 3s/epoch - 3ms/step\n",
            "Epoch 18/20\n",
            "804/804 - 4s - loss: 0.5928 - accuracy: 0.7141 - val_loss: 0.5672 - val_accuracy: 0.7234 - 4s/epoch - 4ms/step\n",
            "Epoch 19/20\n",
            "804/804 - 2s - loss: 0.5938 - accuracy: 0.7136 - val_loss: 0.5667 - val_accuracy: 0.7221 - 2s/epoch - 3ms/step\n",
            "Epoch 20/20\n",
            "804/804 - 2s - loss: 0.5917 - accuracy: 0.7157 - val_loss: 0.5669 - val_accuracy: 0.7224 - 2s/epoch - 3ms/step\n"
          ]
        }
      ]
    },
    {
      "cell_type": "code",
      "source": [
        "# Evaluate the model using the newly optimized data\n",
        "model_loss, model_accuracy = optimized_nn_2.evaluate(X_test_scaled,y_test,verbose=2)\n",
        "print(f\"Loss: {model_loss}, Accuracy: {model_accuracy}\")"
      ],
      "metadata": {
        "colab": {
          "base_uri": "https://localhost:8080/"
        },
        "id": "3yeTBLHSUbOv",
        "outputId": "4e82c76e-f053-4d26-c3e7-04ae46d59234"
      },
      "execution_count": 25,
      "outputs": [
        {
          "output_type": "stream",
          "name": "stdout",
          "text": [
            "268/268 - 0s - loss: 0.5669 - accuracy: 0.7224 - 406ms/epoch - 2ms/step\n",
            "Loss: 0.5668942928314209, Accuracy: 0.722449004650116\n"
          ]
        }
      ]
    },
    {
      "cell_type": "code",
      "source": [
        "# Simpler optimized model\n",
        "optimized_nn_3 = tf.keras.models.Sequential()\n",
        "optimized_nn_3.add(tf.keras.layers.Dense(units=8, activation='relu', input_dim=len(X_train.columns)))\n",
        "optimized_nn_3.add(tf.keras.layers.Dense(units=4, activation='relu'))\n",
        "optimized_nn_3.add(tf.keras.layers.Dense(units=1, activation='sigmoid'))"
      ],
      "metadata": {
        "id": "7mGIskYcUyqH"
      },
      "execution_count": 26,
      "outputs": []
    },
    {
      "cell_type": "code",
      "source": [
        "# Compile with lower learning rate\n",
        "optimizer = tf.keras.optimizers.Adam(learning_rate=0.0005)\n",
        "optimized_nn_3.compile(optimizer=optimizer, loss='binary_crossentropy', metrics=['accuracy'])"
      ],
      "metadata": {
        "id": "BrpSkbeoU36j"
      },
      "execution_count": 27,
      "outputs": []
    },
    {
      "cell_type": "code",
      "source": [
        "# Train with increased epochs\n",
        "optimized_fit_model_3 = optimized_nn_3.fit(X_train_scaled, y_train, epochs=40, shuffle=True, verbose=2, validation_data=(X_test_scaled, y_test))"
      ],
      "metadata": {
        "colab": {
          "base_uri": "https://localhost:8080/"
        },
        "id": "STmuI9ZbU7w9",
        "outputId": "3029c500-5214-4884-ac18-0c4381f1b855"
      },
      "execution_count": 28,
      "outputs": [
        {
          "output_type": "stream",
          "name": "stdout",
          "text": [
            "Epoch 1/40\n",
            "804/804 - 3s - loss: 0.6683 - accuracy: 0.6475 - val_loss: 0.6256 - val_accuracy: 0.6988 - 3s/epoch - 4ms/step\n",
            "Epoch 2/40\n",
            "804/804 - 2s - loss: 0.5880 - accuracy: 0.7223 - val_loss: 0.5887 - val_accuracy: 0.7127 - 2s/epoch - 2ms/step\n",
            "Epoch 3/40\n",
            "804/804 - 2s - loss: 0.5681 - accuracy: 0.7247 - val_loss: 0.5785 - val_accuracy: 0.7170 - 2s/epoch - 2ms/step\n",
            "Epoch 4/40\n",
            "804/804 - 2s - loss: 0.5612 - accuracy: 0.7274 - val_loss: 0.5744 - val_accuracy: 0.7205 - 2s/epoch - 2ms/step\n",
            "Epoch 5/40\n",
            "804/804 - 2s - loss: 0.5578 - accuracy: 0.7285 - val_loss: 0.5719 - val_accuracy: 0.7214 - 2s/epoch - 2ms/step\n",
            "Epoch 6/40\n",
            "804/804 - 3s - loss: 0.5561 - accuracy: 0.7296 - val_loss: 0.5709 - val_accuracy: 0.7217 - 3s/epoch - 3ms/step\n",
            "Epoch 7/40\n",
            "804/804 - 2s - loss: 0.5544 - accuracy: 0.7296 - val_loss: 0.5696 - val_accuracy: 0.7216 - 2s/epoch - 3ms/step\n",
            "Epoch 8/40\n",
            "804/804 - 2s - loss: 0.5534 - accuracy: 0.7301 - val_loss: 0.5673 - val_accuracy: 0.7222 - 2s/epoch - 2ms/step\n",
            "Epoch 9/40\n",
            "804/804 - 2s - loss: 0.5524 - accuracy: 0.7294 - val_loss: 0.5655 - val_accuracy: 0.7214 - 2s/epoch - 2ms/step\n",
            "Epoch 10/40\n",
            "804/804 - 2s - loss: 0.5515 - accuracy: 0.7302 - val_loss: 0.5642 - val_accuracy: 0.7202 - 2s/epoch - 2ms/step\n",
            "Epoch 11/40\n",
            "804/804 - 2s - loss: 0.5508 - accuracy: 0.7307 - val_loss: 0.5636 - val_accuracy: 0.7200 - 2s/epoch - 2ms/step\n",
            "Epoch 12/40\n",
            "804/804 - 2s - loss: 0.5501 - accuracy: 0.7316 - val_loss: 0.5626 - val_accuracy: 0.7212 - 2s/epoch - 2ms/step\n",
            "Epoch 13/40\n",
            "804/804 - 3s - loss: 0.5495 - accuracy: 0.7316 - val_loss: 0.5615 - val_accuracy: 0.7219 - 3s/epoch - 3ms/step\n",
            "Epoch 14/40\n",
            "804/804 - 3s - loss: 0.5489 - accuracy: 0.7308 - val_loss: 0.5610 - val_accuracy: 0.7212 - 3s/epoch - 3ms/step\n",
            "Epoch 15/40\n",
            "804/804 - 2s - loss: 0.5487 - accuracy: 0.7319 - val_loss: 0.5609 - val_accuracy: 0.7227 - 2s/epoch - 2ms/step\n",
            "Epoch 16/40\n",
            "804/804 - 2s - loss: 0.5484 - accuracy: 0.7326 - val_loss: 0.5597 - val_accuracy: 0.7213 - 2s/epoch - 2ms/step\n",
            "Epoch 17/40\n",
            "804/804 - 2s - loss: 0.5479 - accuracy: 0.7328 - val_loss: 0.5596 - val_accuracy: 0.7214 - 2s/epoch - 2ms/step\n",
            "Epoch 18/40\n",
            "804/804 - 2s - loss: 0.5477 - accuracy: 0.7325 - val_loss: 0.5590 - val_accuracy: 0.7238 - 2s/epoch - 2ms/step\n",
            "Epoch 19/40\n",
            "804/804 - 2s - loss: 0.5473 - accuracy: 0.7343 - val_loss: 0.5582 - val_accuracy: 0.7240 - 2s/epoch - 2ms/step\n",
            "Epoch 20/40\n",
            "804/804 - 3s - loss: 0.5471 - accuracy: 0.7345 - val_loss: 0.5577 - val_accuracy: 0.7248 - 3s/epoch - 3ms/step\n",
            "Epoch 21/40\n",
            "804/804 - 2s - loss: 0.5467 - accuracy: 0.7332 - val_loss: 0.5581 - val_accuracy: 0.7237 - 2s/epoch - 3ms/step\n",
            "Epoch 22/40\n",
            "804/804 - 2s - loss: 0.5465 - accuracy: 0.7342 - val_loss: 0.5566 - val_accuracy: 0.7249 - 2s/epoch - 2ms/step\n",
            "Epoch 23/40\n",
            "804/804 - 2s - loss: 0.5462 - accuracy: 0.7348 - val_loss: 0.5565 - val_accuracy: 0.7237 - 2s/epoch - 2ms/step\n",
            "Epoch 24/40\n",
            "804/804 - 2s - loss: 0.5462 - accuracy: 0.7339 - val_loss: 0.5563 - val_accuracy: 0.7245 - 2s/epoch - 2ms/step\n",
            "Epoch 25/40\n",
            "804/804 - 2s - loss: 0.5458 - accuracy: 0.7341 - val_loss: 0.5561 - val_accuracy: 0.7240 - 2s/epoch - 2ms/step\n",
            "Epoch 26/40\n",
            "804/804 - 2s - loss: 0.5457 - accuracy: 0.7350 - val_loss: 0.5551 - val_accuracy: 0.7249 - 2s/epoch - 2ms/step\n",
            "Epoch 27/40\n",
            "804/804 - 2s - loss: 0.5454 - accuracy: 0.7352 - val_loss: 0.5556 - val_accuracy: 0.7238 - 2s/epoch - 3ms/step\n",
            "Epoch 28/40\n",
            "804/804 - 3s - loss: 0.5455 - accuracy: 0.7343 - val_loss: 0.5553 - val_accuracy: 0.7243 - 3s/epoch - 3ms/step\n",
            "Epoch 29/40\n",
            "804/804 - 2s - loss: 0.5450 - accuracy: 0.7348 - val_loss: 0.5567 - val_accuracy: 0.7245 - 2s/epoch - 2ms/step\n",
            "Epoch 30/40\n",
            "804/804 - 2s - loss: 0.5451 - accuracy: 0.7350 - val_loss: 0.5555 - val_accuracy: 0.7242 - 2s/epoch - 2ms/step\n",
            "Epoch 31/40\n",
            "804/804 - 2s - loss: 0.5450 - accuracy: 0.7345 - val_loss: 0.5555 - val_accuracy: 0.7234 - 2s/epoch - 2ms/step\n",
            "Epoch 32/40\n",
            "804/804 - 2s - loss: 0.5450 - accuracy: 0.7347 - val_loss: 0.5545 - val_accuracy: 0.7230 - 2s/epoch - 2ms/step\n",
            "Epoch 33/40\n",
            "804/804 - 2s - loss: 0.5448 - accuracy: 0.7352 - val_loss: 0.5549 - val_accuracy: 0.7238 - 2s/epoch - 2ms/step\n",
            "Epoch 34/40\n",
            "804/804 - 2s - loss: 0.5448 - accuracy: 0.7352 - val_loss: 0.5548 - val_accuracy: 0.7231 - 2s/epoch - 3ms/step\n",
            "Epoch 35/40\n",
            "804/804 - 3s - loss: 0.5448 - accuracy: 0.7346 - val_loss: 0.5551 - val_accuracy: 0.7238 - 3s/epoch - 3ms/step\n",
            "Epoch 36/40\n",
            "804/804 - 2s - loss: 0.5446 - accuracy: 0.7348 - val_loss: 0.5554 - val_accuracy: 0.7242 - 2s/epoch - 2ms/step\n",
            "Epoch 37/40\n",
            "804/804 - 2s - loss: 0.5445 - accuracy: 0.7352 - val_loss: 0.5548 - val_accuracy: 0.7247 - 2s/epoch - 2ms/step\n",
            "Epoch 38/40\n",
            "804/804 - 2s - loss: 0.5445 - accuracy: 0.7340 - val_loss: 0.5551 - val_accuracy: 0.7233 - 2s/epoch - 2ms/step\n",
            "Epoch 39/40\n",
            "804/804 - 2s - loss: 0.5443 - accuracy: 0.7355 - val_loss: 0.5543 - val_accuracy: 0.7229 - 2s/epoch - 2ms/step\n",
            "Epoch 40/40\n",
            "804/804 - 2s - loss: 0.5443 - accuracy: 0.7353 - val_loss: 0.5541 - val_accuracy: 0.7235 - 2s/epoch - 2ms/step\n"
          ]
        }
      ]
    },
    {
      "cell_type": "code",
      "source": [
        "# Evaluate the model using the simplified optimized data\n",
        "model_loss, model_accuracy = optimized_nn_3.evaluate(X_test_scaled,y_test,verbose=2)\n",
        "print(f\"Loss: {model_loss}, Accuracy: {model_accuracy}\")"
      ],
      "metadata": {
        "colab": {
          "base_uri": "https://localhost:8080/"
        },
        "id": "zqxvkO6JVa1v",
        "outputId": "00550388-b66b-4289-fcee-b6d5d5512d35"
      },
      "execution_count": 31,
      "outputs": [
        {
          "output_type": "stream",
          "name": "stdout",
          "text": [
            "268/268 - 1s - loss: 0.5571 - accuracy: 0.7251 - 1s/epoch - 4ms/step\n",
            "Loss: 0.5570860505104065, Accuracy: 0.7251312136650085\n"
          ]
        }
      ]
    },
    {
      "cell_type": "markdown",
      "source": [
        "1. Overview:\n",
        "\n",
        "*   The primary goal of this analysis was to build a neural network model using TensorFlow to predict whether charities who applied for funding from Alphabet Soup would be successful. The dataset provided valuable information about each applicant to help in making this assessment.\n",
        "\n",
        "---\n",
        "2. Results:\n",
        "\n",
        "*   The target variable for this assessment was the IS_SUCCESSFUL column\n",
        "*   The feature variables were all of the other columns in the dataset, except for EIN and NAME which were excluded\n",
        "*   The initial neural network included three layers: An input layer, a hidden layer with 8 neurons and relu activation, and an output layer with 1 neuron and sigmoid activation. The model was compiled using the Adam optimizer and binary cross-entropy loss function.\n",
        "*   The initial model reached an accuracy of about 72%, which did not meet the requirement of 75%.\n",
        "*   Optimization attempts were made by making edits such as adding more neurons, hidden layers, different activation functions, and adjusting parameters.\n",
        "*   Despite these efforts, accuracy did not significantly improve.\n",
        "\n",
        "---\n",
        "3. Summary:\n",
        "\n",
        "*   While the deep learning model was able to reach a reasonable accuracy, it still fell short of the target goal of 75%. Since further optimization attempts did not yield significant improvements, it would be recommended to explore other forms of machine learning algorithms such as Random Forest, which may be better equipped to capture complex patterns in the data more efficiently.\n",
        "\n",
        "\n",
        "\n",
        "\n"
      ],
      "metadata": {
        "id": "AfpDX0RvIq9X"
      }
    }
  ],
  "metadata": {
    "kernelspec": {
      "display_name": "Python 3",
      "language": "python",
      "name": "python3"
    },
    "language_info": {
      "codemirror_mode": {
        "name": "ipython",
        "version": 3
      },
      "file_extension": ".py",
      "mimetype": "text/x-python",
      "name": "python",
      "nbconvert_exporter": "python",
      "pygments_lexer": "ipython3",
      "version": "3.-1.-1"
    },
    "vscode": {
      "interpreter": {
        "hash": "31f2aee4e71d21fbe5cf8b01ff0e069b9275f58929596ceb00d14d90e3e16cd6"
      }
    },
    "colab": {
      "provenance": [],
      "include_colab_link": true
    }
  },
  "nbformat": 4,
  "nbformat_minor": 0
}