{
  "cells": [
    {
      "cell_type": "markdown",
      "metadata": {
        "id": "view-in-github",
        "colab_type": "text"
      },
      "source": [
        "<a href=\"https://colab.research.google.com/github/crowley409/Deep-Learning-Challenge/blob/main/Deep_Learning_Challenge.ipynb\" target=\"_parent\"><img src=\"https://colab.research.google.com/assets/colab-badge.svg\" alt=\"Open In Colab\"/></a>"
      ]
    },
    {
      "cell_type": "markdown",
      "metadata": {
        "id": "26WBzNWuNRzZ"
      },
      "source": [
        "## Preprocessing"
      ]
    },
    {
      "cell_type": "code",
      "execution_count": 1,
      "metadata": {
        "id": "LBZqaCpENRzc",
        "outputId": "bae74733-9df4-49ef-afef-5ef9208563e1",
        "colab": {
          "base_uri": "https://localhost:8080/",
          "height": 397
        }
      },
      "outputs": [
        {
          "output_type": "execute_result",
          "data": {
            "text/plain": [
              "        EIN                                      NAME APPLICATION_TYPE  \\\n",
              "0  10520599              BLUE KNIGHTS MOTORCYCLE CLUB              T10   \n",
              "1  10531628    AMERICAN CHESAPEAKE CLUB CHARITABLE TR               T3   \n",
              "2  10547893        ST CLOUD PROFESSIONAL FIREFIGHTERS               T5   \n",
              "3  10553066            SOUTHSIDE ATHLETIC ASSOCIATION               T3   \n",
              "4  10556103  GENETIC RESEARCH INSTITUTE OF THE DESERT               T3   \n",
              "\n",
              "        AFFILIATION CLASSIFICATION      USE_CASE  ORGANIZATION  STATUS  \\\n",
              "0       Independent          C1000    ProductDev   Association       1   \n",
              "1       Independent          C2000  Preservation  Co-operative       1   \n",
              "2  CompanySponsored          C3000    ProductDev   Association       1   \n",
              "3  CompanySponsored          C2000  Preservation         Trust       1   \n",
              "4       Independent          C1000     Heathcare         Trust       1   \n",
              "\n",
              "      INCOME_AMT SPECIAL_CONSIDERATIONS  ASK_AMT  IS_SUCCESSFUL  \n",
              "0              0                      N     5000              1  \n",
              "1         1-9999                      N   108590              1  \n",
              "2              0                      N     5000              0  \n",
              "3    10000-24999                      N     6692              1  \n",
              "4  100000-499999                      N   142590              1  "
            ],
            "text/html": [
              "\n",
              "  <div id=\"df-45f8ba40-de75-42c7-aae6-c5960d5ae0ba\" class=\"colab-df-container\">\n",
              "    <div>\n",
              "<style scoped>\n",
              "    .dataframe tbody tr th:only-of-type {\n",
              "        vertical-align: middle;\n",
              "    }\n",
              "\n",
              "    .dataframe tbody tr th {\n",
              "        vertical-align: top;\n",
              "    }\n",
              "\n",
              "    .dataframe thead th {\n",
              "        text-align: right;\n",
              "    }\n",
              "</style>\n",
              "<table border=\"1\" class=\"dataframe\">\n",
              "  <thead>\n",
              "    <tr style=\"text-align: right;\">\n",
              "      <th></th>\n",
              "      <th>EIN</th>\n",
              "      <th>NAME</th>\n",
              "      <th>APPLICATION_TYPE</th>\n",
              "      <th>AFFILIATION</th>\n",
              "      <th>CLASSIFICATION</th>\n",
              "      <th>USE_CASE</th>\n",
              "      <th>ORGANIZATION</th>\n",
              "      <th>STATUS</th>\n",
              "      <th>INCOME_AMT</th>\n",
              "      <th>SPECIAL_CONSIDERATIONS</th>\n",
              "      <th>ASK_AMT</th>\n",
              "      <th>IS_SUCCESSFUL</th>\n",
              "    </tr>\n",
              "  </thead>\n",
              "  <tbody>\n",
              "    <tr>\n",
              "      <th>0</th>\n",
              "      <td>10520599</td>\n",
              "      <td>BLUE KNIGHTS MOTORCYCLE CLUB</td>\n",
              "      <td>T10</td>\n",
              "      <td>Independent</td>\n",
              "      <td>C1000</td>\n",
              "      <td>ProductDev</td>\n",
              "      <td>Association</td>\n",
              "      <td>1</td>\n",
              "      <td>0</td>\n",
              "      <td>N</td>\n",
              "      <td>5000</td>\n",
              "      <td>1</td>\n",
              "    </tr>\n",
              "    <tr>\n",
              "      <th>1</th>\n",
              "      <td>10531628</td>\n",
              "      <td>AMERICAN CHESAPEAKE CLUB CHARITABLE TR</td>\n",
              "      <td>T3</td>\n",
              "      <td>Independent</td>\n",
              "      <td>C2000</td>\n",
              "      <td>Preservation</td>\n",
              "      <td>Co-operative</td>\n",
              "      <td>1</td>\n",
              "      <td>1-9999</td>\n",
              "      <td>N</td>\n",
              "      <td>108590</td>\n",
              "      <td>1</td>\n",
              "    </tr>\n",
              "    <tr>\n",
              "      <th>2</th>\n",
              "      <td>10547893</td>\n",
              "      <td>ST CLOUD PROFESSIONAL FIREFIGHTERS</td>\n",
              "      <td>T5</td>\n",
              "      <td>CompanySponsored</td>\n",
              "      <td>C3000</td>\n",
              "      <td>ProductDev</td>\n",
              "      <td>Association</td>\n",
              "      <td>1</td>\n",
              "      <td>0</td>\n",
              "      <td>N</td>\n",
              "      <td>5000</td>\n",
              "      <td>0</td>\n",
              "    </tr>\n",
              "    <tr>\n",
              "      <th>3</th>\n",
              "      <td>10553066</td>\n",
              "      <td>SOUTHSIDE ATHLETIC ASSOCIATION</td>\n",
              "      <td>T3</td>\n",
              "      <td>CompanySponsored</td>\n",
              "      <td>C2000</td>\n",
              "      <td>Preservation</td>\n",
              "      <td>Trust</td>\n",
              "      <td>1</td>\n",
              "      <td>10000-24999</td>\n",
              "      <td>N</td>\n",
              "      <td>6692</td>\n",
              "      <td>1</td>\n",
              "    </tr>\n",
              "    <tr>\n",
              "      <th>4</th>\n",
              "      <td>10556103</td>\n",
              "      <td>GENETIC RESEARCH INSTITUTE OF THE DESERT</td>\n",
              "      <td>T3</td>\n",
              "      <td>Independent</td>\n",
              "      <td>C1000</td>\n",
              "      <td>Heathcare</td>\n",
              "      <td>Trust</td>\n",
              "      <td>1</td>\n",
              "      <td>100000-499999</td>\n",
              "      <td>N</td>\n",
              "      <td>142590</td>\n",
              "      <td>1</td>\n",
              "    </tr>\n",
              "  </tbody>\n",
              "</table>\n",
              "</div>\n",
              "    <div class=\"colab-df-buttons\">\n",
              "\n",
              "  <div class=\"colab-df-container\">\n",
              "    <button class=\"colab-df-convert\" onclick=\"convertToInteractive('df-45f8ba40-de75-42c7-aae6-c5960d5ae0ba')\"\n",
              "            title=\"Convert this dataframe to an interactive table.\"\n",
              "            style=\"display:none;\">\n",
              "\n",
              "  <svg xmlns=\"http://www.w3.org/2000/svg\" height=\"24px\" viewBox=\"0 -960 960 960\">\n",
              "    <path d=\"M120-120v-720h720v720H120Zm60-500h600v-160H180v160Zm220 220h160v-160H400v160Zm0 220h160v-160H400v160ZM180-400h160v-160H180v160Zm440 0h160v-160H620v160ZM180-180h160v-160H180v160Zm440 0h160v-160H620v160Z\"/>\n",
              "  </svg>\n",
              "    </button>\n",
              "\n",
              "  <style>\n",
              "    .colab-df-container {\n",
              "      display:flex;\n",
              "      gap: 12px;\n",
              "    }\n",
              "\n",
              "    .colab-df-convert {\n",
              "      background-color: #E8F0FE;\n",
              "      border: none;\n",
              "      border-radius: 50%;\n",
              "      cursor: pointer;\n",
              "      display: none;\n",
              "      fill: #1967D2;\n",
              "      height: 32px;\n",
              "      padding: 0 0 0 0;\n",
              "      width: 32px;\n",
              "    }\n",
              "\n",
              "    .colab-df-convert:hover {\n",
              "      background-color: #E2EBFA;\n",
              "      box-shadow: 0px 1px 2px rgba(60, 64, 67, 0.3), 0px 1px 3px 1px rgba(60, 64, 67, 0.15);\n",
              "      fill: #174EA6;\n",
              "    }\n",
              "\n",
              "    .colab-df-buttons div {\n",
              "      margin-bottom: 4px;\n",
              "    }\n",
              "\n",
              "    [theme=dark] .colab-df-convert {\n",
              "      background-color: #3B4455;\n",
              "      fill: #D2E3FC;\n",
              "    }\n",
              "\n",
              "    [theme=dark] .colab-df-convert:hover {\n",
              "      background-color: #434B5C;\n",
              "      box-shadow: 0px 1px 3px 1px rgba(0, 0, 0, 0.15);\n",
              "      filter: drop-shadow(0px 1px 2px rgba(0, 0, 0, 0.3));\n",
              "      fill: #FFFFFF;\n",
              "    }\n",
              "  </style>\n",
              "\n",
              "    <script>\n",
              "      const buttonEl =\n",
              "        document.querySelector('#df-45f8ba40-de75-42c7-aae6-c5960d5ae0ba button.colab-df-convert');\n",
              "      buttonEl.style.display =\n",
              "        google.colab.kernel.accessAllowed ? 'block' : 'none';\n",
              "\n",
              "      async function convertToInteractive(key) {\n",
              "        const element = document.querySelector('#df-45f8ba40-de75-42c7-aae6-c5960d5ae0ba');\n",
              "        const dataTable =\n",
              "          await google.colab.kernel.invokeFunction('convertToInteractive',\n",
              "                                                    [key], {});\n",
              "        if (!dataTable) return;\n",
              "\n",
              "        const docLinkHtml = 'Like what you see? Visit the ' +\n",
              "          '<a target=\"_blank\" href=https://colab.research.google.com/notebooks/data_table.ipynb>data table notebook</a>'\n",
              "          + ' to learn more about interactive tables.';\n",
              "        element.innerHTML = '';\n",
              "        dataTable['output_type'] = 'display_data';\n",
              "        await google.colab.output.renderOutput(dataTable, element);\n",
              "        const docLink = document.createElement('div');\n",
              "        docLink.innerHTML = docLinkHtml;\n",
              "        element.appendChild(docLink);\n",
              "      }\n",
              "    </script>\n",
              "  </div>\n",
              "\n",
              "\n",
              "<div id=\"df-a8c0cdd9-9f14-42b3-a928-f6caa520259e\">\n",
              "  <button class=\"colab-df-quickchart\" onclick=\"quickchart('df-a8c0cdd9-9f14-42b3-a928-f6caa520259e')\"\n",
              "            title=\"Suggest charts\"\n",
              "            style=\"display:none;\">\n",
              "\n",
              "<svg xmlns=\"http://www.w3.org/2000/svg\" height=\"24px\"viewBox=\"0 0 24 24\"\n",
              "     width=\"24px\">\n",
              "    <g>\n",
              "        <path d=\"M19 3H5c-1.1 0-2 .9-2 2v14c0 1.1.9 2 2 2h14c1.1 0 2-.9 2-2V5c0-1.1-.9-2-2-2zM9 17H7v-7h2v7zm4 0h-2V7h2v10zm4 0h-2v-4h2v4z\"/>\n",
              "    </g>\n",
              "</svg>\n",
              "  </button>\n",
              "\n",
              "<style>\n",
              "  .colab-df-quickchart {\n",
              "      --bg-color: #E8F0FE;\n",
              "      --fill-color: #1967D2;\n",
              "      --hover-bg-color: #E2EBFA;\n",
              "      --hover-fill-color: #174EA6;\n",
              "      --disabled-fill-color: #AAA;\n",
              "      --disabled-bg-color: #DDD;\n",
              "  }\n",
              "\n",
              "  [theme=dark] .colab-df-quickchart {\n",
              "      --bg-color: #3B4455;\n",
              "      --fill-color: #D2E3FC;\n",
              "      --hover-bg-color: #434B5C;\n",
              "      --hover-fill-color: #FFFFFF;\n",
              "      --disabled-bg-color: #3B4455;\n",
              "      --disabled-fill-color: #666;\n",
              "  }\n",
              "\n",
              "  .colab-df-quickchart {\n",
              "    background-color: var(--bg-color);\n",
              "    border: none;\n",
              "    border-radius: 50%;\n",
              "    cursor: pointer;\n",
              "    display: none;\n",
              "    fill: var(--fill-color);\n",
              "    height: 32px;\n",
              "    padding: 0;\n",
              "    width: 32px;\n",
              "  }\n",
              "\n",
              "  .colab-df-quickchart:hover {\n",
              "    background-color: var(--hover-bg-color);\n",
              "    box-shadow: 0 1px 2px rgba(60, 64, 67, 0.3), 0 1px 3px 1px rgba(60, 64, 67, 0.15);\n",
              "    fill: var(--button-hover-fill-color);\n",
              "  }\n",
              "\n",
              "  .colab-df-quickchart-complete:disabled,\n",
              "  .colab-df-quickchart-complete:disabled:hover {\n",
              "    background-color: var(--disabled-bg-color);\n",
              "    fill: var(--disabled-fill-color);\n",
              "    box-shadow: none;\n",
              "  }\n",
              "\n",
              "  .colab-df-spinner {\n",
              "    border: 2px solid var(--fill-color);\n",
              "    border-color: transparent;\n",
              "    border-bottom-color: var(--fill-color);\n",
              "    animation:\n",
              "      spin 1s steps(1) infinite;\n",
              "  }\n",
              "\n",
              "  @keyframes spin {\n",
              "    0% {\n",
              "      border-color: transparent;\n",
              "      border-bottom-color: var(--fill-color);\n",
              "      border-left-color: var(--fill-color);\n",
              "    }\n",
              "    20% {\n",
              "      border-color: transparent;\n",
              "      border-left-color: var(--fill-color);\n",
              "      border-top-color: var(--fill-color);\n",
              "    }\n",
              "    30% {\n",
              "      border-color: transparent;\n",
              "      border-left-color: var(--fill-color);\n",
              "      border-top-color: var(--fill-color);\n",
              "      border-right-color: var(--fill-color);\n",
              "    }\n",
              "    40% {\n",
              "      border-color: transparent;\n",
              "      border-right-color: var(--fill-color);\n",
              "      border-top-color: var(--fill-color);\n",
              "    }\n",
              "    60% {\n",
              "      border-color: transparent;\n",
              "      border-right-color: var(--fill-color);\n",
              "    }\n",
              "    80% {\n",
              "      border-color: transparent;\n",
              "      border-right-color: var(--fill-color);\n",
              "      border-bottom-color: var(--fill-color);\n",
              "    }\n",
              "    90% {\n",
              "      border-color: transparent;\n",
              "      border-bottom-color: var(--fill-color);\n",
              "    }\n",
              "  }\n",
              "</style>\n",
              "\n",
              "  <script>\n",
              "    async function quickchart(key) {\n",
              "      const quickchartButtonEl =\n",
              "        document.querySelector('#' + key + ' button');\n",
              "      quickchartButtonEl.disabled = true;  // To prevent multiple clicks.\n",
              "      quickchartButtonEl.classList.add('colab-df-spinner');\n",
              "      try {\n",
              "        const charts = await google.colab.kernel.invokeFunction(\n",
              "            'suggestCharts', [key], {});\n",
              "      } catch (error) {\n",
              "        console.error('Error during call to suggestCharts:', error);\n",
              "      }\n",
              "      quickchartButtonEl.classList.remove('colab-df-spinner');\n",
              "      quickchartButtonEl.classList.add('colab-df-quickchart-complete');\n",
              "    }\n",
              "    (() => {\n",
              "      let quickchartButtonEl =\n",
              "        document.querySelector('#df-a8c0cdd9-9f14-42b3-a928-f6caa520259e button');\n",
              "      quickchartButtonEl.style.display =\n",
              "        google.colab.kernel.accessAllowed ? 'block' : 'none';\n",
              "    })();\n",
              "  </script>\n",
              "</div>\n",
              "\n",
              "    </div>\n",
              "  </div>\n"
            ]
          },
          "metadata": {},
          "execution_count": 1
        }
      ],
      "source": [
        "# Import our dependencies\n",
        "from sklearn.model_selection import train_test_split\n",
        "from sklearn.preprocessing import StandardScaler\n",
        "import pandas as pd\n",
        "import tensorflow as tf\n",
        "\n",
        "#  Import and read the charity_data.csv.\n",
        "import pandas as pd\n",
        "application_df = pd.read_csv(\"https://static.bc-edx.com/data/dl-1-2/m21/lms/starter/charity_data.csv\")\n",
        "application_df.head()"
      ]
    },
    {
      "cell_type": "code",
      "execution_count": 2,
      "metadata": {
        "id": "MP8qTYcENRzg"
      },
      "outputs": [],
      "source": [
        "# Drop the non-beneficial ID columns, 'EIN' and 'NAME'.\n",
        "application_df = application_df.drop(columns=[\"EIN\", \"NAME\"])"
      ]
    },
    {
      "cell_type": "code",
      "execution_count": 4,
      "metadata": {
        "id": "fPUendj6NRzg",
        "outputId": "ea1c74e2-ec77-4b1d-bb19-9db687117ca1",
        "colab": {
          "base_uri": "https://localhost:8080/"
        }
      },
      "outputs": [
        {
          "output_type": "stream",
          "name": "stdout",
          "text": [
            "Number of Unique Values in Each Column:\n",
            "APPLICATION_TYPE            17\n",
            "AFFILIATION                  6\n",
            "CLASSIFICATION              71\n",
            "USE_CASE                     5\n",
            "ORGANIZATION                 4\n",
            "STATUS                       2\n",
            "INCOME_AMT                   9\n",
            "SPECIAL_CONSIDERATIONS       2\n",
            "ASK_AMT                   8747\n",
            "IS_SUCCESSFUL                2\n",
            "dtype: int64\n"
          ]
        }
      ],
      "source": [
        "# Determine the number of unique values in each column.\n",
        "unique_value_counts = application_df.nunique()\n",
        "\n",
        "print(\"Number of Unique Values in Each Column:\")\n",
        "print(unique_value_counts)"
      ]
    },
    {
      "cell_type": "code",
      "execution_count": 5,
      "metadata": {
        "id": "L6R-BnCdNRzh",
        "outputId": "5223e149-9850-4e46-fa6c-8a291fb38d03",
        "colab": {
          "base_uri": "https://localhost:8080/"
        }
      },
      "outputs": [
        {
          "output_type": "stream",
          "name": "stdout",
          "text": [
            "APPLICATION_TYPE Value Counts:\n",
            "T3     27037\n",
            "T4      1542\n",
            "T6      1216\n",
            "T5      1173\n",
            "T19     1065\n",
            "T8       737\n",
            "T7       725\n",
            "T10      528\n",
            "T9       156\n",
            "T13       66\n",
            "T12       27\n",
            "T2        16\n",
            "T25        3\n",
            "T14        3\n",
            "T29        2\n",
            "T15        2\n",
            "T17        1\n",
            "Name: APPLICATION_TYPE, dtype: int64\n"
          ]
        }
      ],
      "source": [
        "# Look at APPLICATION_TYPE value counts for binning\n",
        "application_type_counts = application_df['APPLICATION_TYPE'].value_counts()\n",
        "\n",
        "print(\"APPLICATION_TYPE Value Counts:\")\n",
        "print(application_type_counts)"
      ]
    },
    {
      "cell_type": "code",
      "execution_count": 6,
      "metadata": {
        "id": "eQ56UoAfNRzh",
        "outputId": "2b460a50-20bf-4c98-dbdd-df3916d4a3e0",
        "colab": {
          "base_uri": "https://localhost:8080/"
        }
      },
      "outputs": [
        {
          "output_type": "stream",
          "name": "stdout",
          "text": [
            "Updated APPLICATION_TYPE Value Counts:\n",
            "T3       27037\n",
            "T4        1542\n",
            "T6        1216\n",
            "T5        1173\n",
            "T19       1065\n",
            "T8         737\n",
            "T7         725\n",
            "T10        528\n",
            "Other      276\n",
            "Name: APPLICATION_TYPE, dtype: int64\n"
          ]
        }
      ],
      "source": [
        "# Choose a cutoff value and create a list of application types to be replaced\n",
        "# use the variable name `application_types_to_replace`\n",
        "cutoff_value = 500\n",
        "\n",
        "application_types_to_replace = list(application_type_counts[application_type_counts < cutoff_value].index)\n",
        "\n",
        "# Replace in dataframe\n",
        "for app in application_types_to_replace:\n",
        "    application_df['APPLICATION_TYPE'] = application_df['APPLICATION_TYPE'].replace(app,\"Other\")\n",
        "\n",
        "# Check to make sure binning was successful\n",
        "print(\"Updated APPLICATION_TYPE Value Counts:\")\n",
        "print(application_df['APPLICATION_TYPE'].value_counts())"
      ]
    },
    {
      "cell_type": "code",
      "execution_count": 7,
      "metadata": {
        "id": "0grfzTLcNRzi",
        "outputId": "d5ce9e87-81d1-411a-d166-b5e189340dfc",
        "colab": {
          "base_uri": "https://localhost:8080/"
        }
      },
      "outputs": [
        {
          "output_type": "stream",
          "name": "stdout",
          "text": [
            "CLASSIFICATION Value Counts:\n",
            "C1000    17326\n",
            "C2000     6074\n",
            "C1200     4837\n",
            "C3000     1918\n",
            "C2100     1883\n",
            "         ...  \n",
            "C4120        1\n",
            "C8210        1\n",
            "C2561        1\n",
            "C4500        1\n",
            "C2150        1\n",
            "Name: CLASSIFICATION, Length: 71, dtype: int64\n"
          ]
        }
      ],
      "source": [
        "# Look at CLASSIFICATION value counts for binning\n",
        "classification_counts = application_df['CLASSIFICATION'].value_counts()\n",
        "\n",
        "print(\"CLASSIFICATION Value Counts:\")\n",
        "print(classification_counts)"
      ]
    },
    {
      "cell_type": "code",
      "execution_count": 8,
      "metadata": {
        "id": "bu_Ky_i6NRzj",
        "outputId": "1de0873a-64cf-436e-905f-c9db8815e45c",
        "colab": {
          "base_uri": "https://localhost:8080/"
        }
      },
      "outputs": [
        {
          "output_type": "stream",
          "name": "stdout",
          "text": [
            "CLASSIFICATION Value Counts (>1):\n",
            "C1000    17326\n",
            "C2000     6074\n",
            "C1200     4837\n",
            "C3000     1918\n",
            "C2100     1883\n",
            "C7000      777\n",
            "C1700      287\n",
            "C4000      194\n",
            "C5000      116\n",
            "C1270      114\n",
            "C2700      104\n",
            "C2800       95\n",
            "C7100       75\n",
            "C1300       58\n",
            "C1280       50\n",
            "C1230       36\n",
            "C1400       34\n",
            "C7200       32\n",
            "C2300       32\n",
            "C1240       30\n",
            "C8000       20\n",
            "C7120       18\n",
            "C1500       16\n",
            "C1800       15\n",
            "C6000       15\n",
            "C1250       14\n",
            "C8200       11\n",
            "C1238       10\n",
            "C1278       10\n",
            "C1235        9\n",
            "C1237        9\n",
            "C7210        7\n",
            "C2400        6\n",
            "C1720        6\n",
            "C4100        6\n",
            "C1257        5\n",
            "C1600        5\n",
            "C1260        3\n",
            "C2710        3\n",
            "C0           3\n",
            "C3200        2\n",
            "C1234        2\n",
            "C1246        2\n",
            "C1267        2\n",
            "C1256        2\n",
            "Name: CLASSIFICATION, dtype: int64\n"
          ]
        }
      ],
      "source": [
        "# You may find it helpful to look at CLASSIFICATION value counts >1\n",
        "classification_counts_gt1 = classification_counts[classification_counts > 1]\n",
        "\n",
        "print(\"CLASSIFICATION Value Counts (>1):\")\n",
        "print(classification_counts_gt1)"
      ]
    },
    {
      "cell_type": "code",
      "execution_count": 9,
      "metadata": {
        "id": "i4TP8qxVNRzj",
        "outputId": "72dec98b-3942-4976-e7fc-ac557623d20e",
        "colab": {
          "base_uri": "https://localhost:8080/"
        }
      },
      "outputs": [
        {
          "output_type": "stream",
          "name": "stdout",
          "text": [
            "Updated CLASSIFICATION Value Counts:\n",
            "C1000    17326\n",
            "C2000     6074\n",
            "C1200     4837\n",
            "C3000     1918\n",
            "C2100     1883\n",
            "C7000      777\n",
            "Other      669\n",
            "C1700      287\n",
            "C4000      194\n",
            "C5000      116\n",
            "C1270      114\n",
            "C2700      104\n",
            "Name: CLASSIFICATION, dtype: int64\n"
          ]
        }
      ],
      "source": [
        "# Choose a cutoff value and create a list of classifications to be replaced\n",
        "# use the variable name `classifications_to_replace`\n",
        "classification_cutoff_value = 100\n",
        "\n",
        "classifications_to_replace = list(classification_counts[classification_counts < classification_cutoff_value].index)\n",
        "\n",
        "# Replace in dataframe\n",
        "for cls in classifications_to_replace:\n",
        "    application_df['CLASSIFICATION'] = application_df['CLASSIFICATION'].replace(cls,\"Other\")\n",
        "\n",
        "# Check to make sure binning was successful\n",
        "print(\"Updated CLASSIFICATION Value Counts:\")\n",
        "print(application_df['CLASSIFICATION'].value_counts())"
      ]
    },
    {
      "cell_type": "code",
      "execution_count": 10,
      "metadata": {
        "id": "-kwuPrIgNRzk",
        "outputId": "960277a1-0104-4d9a-da73-e6aec7b8b224",
        "colab": {
          "base_uri": "https://localhost:8080/"
        }
      },
      "outputs": [
        {
          "output_type": "stream",
          "name": "stdout",
          "text": [
            "Updated DataFrame after One-Hot Encoding:\n",
            "   STATUS  ASK_AMT  IS_SUCCESSFUL  APPLICATION_TYPE_Other  \\\n",
            "0       1     5000              1                       0   \n",
            "1       1   108590              1                       0   \n",
            "2       1     5000              0                       0   \n",
            "3       1     6692              1                       0   \n",
            "4       1   142590              1                       0   \n",
            "\n",
            "   APPLICATION_TYPE_T10  APPLICATION_TYPE_T19  APPLICATION_TYPE_T3  \\\n",
            "0                     1                     0                    0   \n",
            "1                     0                     0                    1   \n",
            "2                     0                     0                    0   \n",
            "3                     0                     0                    1   \n",
            "4                     0                     0                    1   \n",
            "\n",
            "   APPLICATION_TYPE_T4  APPLICATION_TYPE_T5  APPLICATION_TYPE_T6  ...  \\\n",
            "0                    0                    0                    0  ...   \n",
            "1                    0                    0                    0  ...   \n",
            "2                    0                    1                    0  ...   \n",
            "3                    0                    0                    0  ...   \n",
            "4                    0                    0                    0  ...   \n",
            "\n",
            "   INCOME_AMT_1-9999  INCOME_AMT_10000-24999  INCOME_AMT_100000-499999  \\\n",
            "0                  0                       0                         0   \n",
            "1                  1                       0                         0   \n",
            "2                  0                       0                         0   \n",
            "3                  0                       1                         0   \n",
            "4                  0                       0                         1   \n",
            "\n",
            "   INCOME_AMT_10M-50M  INCOME_AMT_1M-5M  INCOME_AMT_25000-99999  \\\n",
            "0                   0                 0                       0   \n",
            "1                   0                 0                       0   \n",
            "2                   0                 0                       0   \n",
            "3                   0                 0                       0   \n",
            "4                   0                 0                       0   \n",
            "\n",
            "   INCOME_AMT_50M+  INCOME_AMT_5M-10M  SPECIAL_CONSIDERATIONS_N  \\\n",
            "0                0                  0                         1   \n",
            "1                0                  0                         1   \n",
            "2                0                  0                         1   \n",
            "3                0                  0                         1   \n",
            "4                0                  0                         1   \n",
            "\n",
            "   SPECIAL_CONSIDERATIONS_Y  \n",
            "0                         0  \n",
            "1                         0  \n",
            "2                         0  \n",
            "3                         0  \n",
            "4                         0  \n",
            "\n",
            "[5 rows x 50 columns]\n"
          ]
        }
      ],
      "source": [
        "# Convert categorical data to numeric with `pd.get_dummies`\n",
        "application_df = pd.get_dummies(application_df, columns=[\"APPLICATION_TYPE\", \"AFFILIATION\", \"CLASSIFICATION\", \"USE_CASE\", \"ORGANIZATION\", \"INCOME_AMT\", \"SPECIAL_CONSIDERATIONS\"])\n",
        "\n",
        "print(\"Updated DataFrame after One-Hot Encoding:\")\n",
        "print(application_df.head())"
      ]
    },
    {
      "cell_type": "code",
      "execution_count": 11,
      "metadata": {
        "id": "6OwMGaIfNRzk"
      },
      "outputs": [],
      "source": [
        "# Split our preprocessed data into our features and target arrays\n",
        "X = application_df.drop(columns=\"IS_SUCCESSFUL\")\n",
        "y = application_df[\"IS_SUCCESSFUL\"]\n",
        "\n",
        "# Split the preprocessed data into a training and testing dataset\n",
        "X_train, X_test, y_train, y_test = train_test_split(X, y, random_state=42, stratify=y)"
      ]
    },
    {
      "cell_type": "code",
      "execution_count": 12,
      "metadata": {
        "id": "H9MIazuvNRzl"
      },
      "outputs": [],
      "source": [
        "# Create a StandardScaler instances\n",
        "scaler = StandardScaler()\n",
        "\n",
        "# Fit the StandardScaler\n",
        "X_scaler = scaler.fit(X_train)\n",
        "\n",
        "# Scale the data\n",
        "X_train_scaled = X_scaler.transform(X_train)\n",
        "X_test_scaled = X_scaler.transform(X_test)"
      ]
    },
    {
      "cell_type": "markdown",
      "metadata": {
        "id": "PdlqJMtENRzm"
      },
      "source": [
        "## Compile, Train and Evaluate the Model"
      ]
    },
    {
      "cell_type": "code",
      "execution_count": 13,
      "metadata": {
        "id": "huJ1Cl0CNRzm",
        "outputId": "0648f470-65b0-4041-8f8d-e13240a8dcc9",
        "colab": {
          "base_uri": "https://localhost:8080/"
        }
      },
      "outputs": [
        {
          "output_type": "stream",
          "name": "stdout",
          "text": [
            "Model: \"sequential\"\n",
            "_________________________________________________________________\n",
            " Layer (type)                Output Shape              Param #   \n",
            "=================================================================\n",
            " dense (Dense)               (None, 8)                 400       \n",
            "                                                                 \n",
            " dense_1 (Dense)             (None, 5)                 45        \n",
            "                                                                 \n",
            " dense_2 (Dense)             (None, 1)                 6         \n",
            "                                                                 \n",
            "=================================================================\n",
            "Total params: 451 (1.76 KB)\n",
            "Trainable params: 451 (1.76 KB)\n",
            "Non-trainable params: 0 (0.00 Byte)\n",
            "_________________________________________________________________\n"
          ]
        }
      ],
      "source": [
        "# Define the model - deep neural net, i.e., the number of input features and hidden nodes for each layer.\n",
        "#  YOUR CODE GOES HERE\n",
        "\n",
        "nn = tf.keras.models.Sequential()\n",
        "\n",
        "# First hidden layer\n",
        "nn.add(tf.keras.layers.Dense(units=8, activation='relu', input_dim=len(X_train.columns)))\n",
        "\n",
        "# Second hidden layer\n",
        "nn.add(tf.keras.layers.Dense(units=5, activation='relu'))\n",
        "\n",
        "# Output layer\n",
        "nn.add(tf.keras.layers.Dense(units=1, activation='sigmoid'))\n",
        "\n",
        "# Check the structure of the model\n",
        "nn.summary()"
      ]
    },
    {
      "cell_type": "code",
      "execution_count": 15,
      "metadata": {
        "id": "cZ6IaX5XNRzn"
      },
      "outputs": [],
      "source": [
        "# Compile the model\n",
        "nn.compile(optimizer='adam', loss='binary_crossentropy', metrics=['accuracy'])"
      ]
    },
    {
      "cell_type": "code",
      "execution_count": 16,
      "metadata": {
        "id": "aLgLrPFrNRzn",
        "outputId": "6e0ac915-d0bc-4ce0-e75c-a4092a931f41",
        "colab": {
          "base_uri": "https://localhost:8080/"
        }
      },
      "outputs": [
        {
          "output_type": "stream",
          "name": "stdout",
          "text": [
            "Epoch 1/10\n",
            "804/804 - 3s - loss: 0.6003 - accuracy: 0.6963 - 3s/epoch - 4ms/step\n",
            "Epoch 2/10\n",
            "804/804 - 1s - loss: 0.5603 - accuracy: 0.7277 - 1s/epoch - 2ms/step\n",
            "Epoch 3/10\n",
            "804/804 - 1s - loss: 0.5542 - accuracy: 0.7292 - 1s/epoch - 2ms/step\n",
            "Epoch 4/10\n",
            "804/804 - 2s - loss: 0.5512 - accuracy: 0.7308 - 2s/epoch - 2ms/step\n",
            "Epoch 5/10\n",
            "804/804 - 2s - loss: 0.5496 - accuracy: 0.7328 - 2s/epoch - 3ms/step\n",
            "Epoch 6/10\n",
            "804/804 - 2s - loss: 0.5486 - accuracy: 0.7318 - 2s/epoch - 2ms/step\n",
            "Epoch 7/10\n",
            "804/804 - 1s - loss: 0.5479 - accuracy: 0.7334 - 1s/epoch - 2ms/step\n",
            "Epoch 8/10\n",
            "804/804 - 1s - loss: 0.5474 - accuracy: 0.7341 - 1s/epoch - 2ms/step\n",
            "Epoch 9/10\n",
            "804/804 - 1s - loss: 0.5474 - accuracy: 0.7334 - 1s/epoch - 2ms/step\n",
            "Epoch 10/10\n",
            "804/804 - 1s - loss: 0.5465 - accuracy: 0.7347 - 1s/epoch - 2ms/step\n"
          ]
        }
      ],
      "source": [
        "# Train the model\n",
        "fit_model = nn.fit(X_train_scaled, y_train, epochs=10, shuffle=True, verbose=2)"
      ]
    },
    {
      "cell_type": "code",
      "execution_count": 17,
      "metadata": {
        "id": "9OBaJoqjNRzo",
        "outputId": "74067d00-98b5-4a14-8be5-202b5c0ee7f0",
        "colab": {
          "base_uri": "https://localhost:8080/"
        }
      },
      "outputs": [
        {
          "output_type": "stream",
          "name": "stdout",
          "text": [
            "268/268 - 1s - loss: 0.5540 - accuracy: 0.7255 - 527ms/epoch - 2ms/step\n",
            "Loss: 0.554008960723877, Accuracy: 0.7254810333251953\n"
          ]
        }
      ],
      "source": [
        "# Evaluate the model using the test data\n",
        "model_loss, model_accuracy = nn.evaluate(X_test_scaled,y_test,verbose=2)\n",
        "print(f\"Loss: {model_loss}, Accuracy: {model_accuracy}\")"
      ]
    },
    {
      "cell_type": "code",
      "execution_count": 18,
      "metadata": {
        "id": "3N_zZ790NRzp",
        "outputId": "4e188e7c-79ad-4f7f-ca96-d15ca011ab98",
        "colab": {
          "base_uri": "https://localhost:8080/"
        }
      },
      "outputs": [
        {
          "output_type": "stream",
          "name": "stderr",
          "text": [
            "/usr/local/lib/python3.10/dist-packages/keras/src/engine/training.py:3079: UserWarning: You are saving your model as an HDF5 file via `model.save()`. This file format is considered legacy. We recommend using instead the native Keras format, e.g. `model.save('my_model.keras')`.\n",
            "  saving_api.save_model(\n"
          ]
        }
      ],
      "source": [
        "# Export our model to HDF5 file\n",
        "nn.save(\"AlphabetSoutCharity.h5\")"
      ]
    },
    {
      "cell_type": "code",
      "source": [
        "# Start of optimization\n",
        "optimized_nn = tf.keras.models.Sequential()\n",
        "optimized_nn.add(tf.keras.layers.Dense(units=16, activation='relu', input_dim=len(X_train.columns)))\n",
        "optimized_nn.add(tf.keras.layers.Dense(units=10, activation='relu'))\n",
        "optimized_nn.add(tf.keras.layers.Dense(units=5, activation='relu'))\n",
        "optimized_nn.add(tf.keras.layers.Dense(units=1, activation='sigmoid'))"
      ],
      "metadata": {
        "id": "lQVLRurcSlq6"
      },
      "execution_count": 19,
      "outputs": []
    },
    {
      "cell_type": "code",
      "source": [
        "# Compilation of optimized nn\n",
        "optimized_nn.compile(optimizer='adam', loss='binary_crossentropy', metrics=['accuracy'])"
      ],
      "metadata": {
        "id": "GYVOcu1dSxJ-"
      },
      "execution_count": 20,
      "outputs": []
    },
    {
      "cell_type": "code",
      "source": [
        "# Optimized model training\n",
        "optimized_fit_model = optimized_nn.fit(X_train_scaled, y_train, epochs=20, shuffle=True, verbose=2, validation_data=(X_test_scaled, y_test))"
      ],
      "metadata": {
        "id": "PdBhvQmlS2OG",
        "outputId": "0720125a-b6b1-43cb-a104-e25acdbee245",
        "colab": {
          "base_uri": "https://localhost:8080/"
        }
      },
      "execution_count": 21,
      "outputs": [
        {
          "output_type": "stream",
          "name": "stdout",
          "text": [
            "Epoch 1/20\n",
            "804/804 - 3s - loss: 0.6094 - accuracy: 0.6955 - val_loss: 0.5721 - val_accuracy: 0.7170 - 3s/epoch - 4ms/step\n",
            "Epoch 2/20\n",
            "804/804 - 5s - loss: 0.5596 - accuracy: 0.7301 - val_loss: 0.5684 - val_accuracy: 0.7243 - 5s/epoch - 6ms/step\n",
            "Epoch 3/20\n",
            "804/804 - 6s - loss: 0.5550 - accuracy: 0.7319 - val_loss: 0.5633 - val_accuracy: 0.7212 - 6s/epoch - 7ms/step\n",
            "Epoch 4/20\n",
            "804/804 - 2s - loss: 0.5526 - accuracy: 0.7338 - val_loss: 0.5648 - val_accuracy: 0.7230 - 2s/epoch - 3ms/step\n",
            "Epoch 5/20\n",
            "804/804 - 2s - loss: 0.5509 - accuracy: 0.7342 - val_loss: 0.5601 - val_accuracy: 0.7231 - 2s/epoch - 3ms/step\n",
            "Epoch 6/20\n",
            "804/804 - 2s - loss: 0.5505 - accuracy: 0.7332 - val_loss: 0.5593 - val_accuracy: 0.7233 - 2s/epoch - 3ms/step\n",
            "Epoch 7/20\n",
            "804/804 - 3s - loss: 0.5491 - accuracy: 0.7346 - val_loss: 0.5583 - val_accuracy: 0.7238 - 3s/epoch - 4ms/step\n",
            "Epoch 8/20\n",
            "804/804 - 2s - loss: 0.5481 - accuracy: 0.7342 - val_loss: 0.5566 - val_accuracy: 0.7237 - 2s/epoch - 3ms/step\n",
            "Epoch 9/20\n",
            "804/804 - 2s - loss: 0.5468 - accuracy: 0.7341 - val_loss: 0.5580 - val_accuracy: 0.7216 - 2s/epoch - 3ms/step\n",
            "Epoch 10/20\n",
            "804/804 - 2s - loss: 0.5454 - accuracy: 0.7358 - val_loss: 0.5552 - val_accuracy: 0.7235 - 2s/epoch - 3ms/step\n",
            "Epoch 11/20\n",
            "804/804 - 2s - loss: 0.5446 - accuracy: 0.7344 - val_loss: 0.5560 - val_accuracy: 0.7228 - 2s/epoch - 2ms/step\n",
            "Epoch 12/20\n",
            "804/804 - 2s - loss: 0.5438 - accuracy: 0.7357 - val_loss: 0.5533 - val_accuracy: 0.7249 - 2s/epoch - 2ms/step\n",
            "Epoch 13/20\n",
            "804/804 - 3s - loss: 0.5434 - accuracy: 0.7360 - val_loss: 0.5527 - val_accuracy: 0.7242 - 3s/epoch - 3ms/step\n",
            "Epoch 14/20\n",
            "804/804 - 3s - loss: 0.5429 - accuracy: 0.7351 - val_loss: 0.5532 - val_accuracy: 0.7226 - 3s/epoch - 3ms/step\n",
            "Epoch 15/20\n",
            "804/804 - 2s - loss: 0.5428 - accuracy: 0.7362 - val_loss: 0.5547 - val_accuracy: 0.7244 - 2s/epoch - 3ms/step\n",
            "Epoch 16/20\n",
            "804/804 - 2s - loss: 0.5422 - accuracy: 0.7367 - val_loss: 0.5529 - val_accuracy: 0.7237 - 2s/epoch - 2ms/step\n",
            "Epoch 17/20\n",
            "804/804 - 2s - loss: 0.5415 - accuracy: 0.7368 - val_loss: 0.5546 - val_accuracy: 0.7238 - 2s/epoch - 3ms/step\n",
            "Epoch 18/20\n",
            "804/804 - 2s - loss: 0.5419 - accuracy: 0.7360 - val_loss: 0.5538 - val_accuracy: 0.7235 - 2s/epoch - 3ms/step\n",
            "Epoch 19/20\n",
            "804/804 - 2s - loss: 0.5417 - accuracy: 0.7368 - val_loss: 0.5556 - val_accuracy: 0.7244 - 2s/epoch - 3ms/step\n",
            "Epoch 20/20\n",
            "804/804 - 3s - loss: 0.5414 - accuracy: 0.7355 - val_loss: 0.5568 - val_accuracy: 0.7238 - 3s/epoch - 3ms/step\n"
          ]
        }
      ]
    },
    {
      "cell_type": "code",
      "source": [
        "# Evaluate the model using the optimized data\n",
        "model_loss, model_accuracy = optimized_nn.evaluate(X_test_scaled,y_test,verbose=2)\n",
        "print(f\"Loss: {model_loss}, Accuracy: {model_accuracy}\")"
      ],
      "metadata": {
        "id": "HsDCuISyTQtf",
        "outputId": "b5405834-00e5-41a1-c086-994d9e586473",
        "colab": {
          "base_uri": "https://localhost:8080/"
        }
      },
      "execution_count": 22,
      "outputs": [
        {
          "output_type": "stream",
          "name": "stdout",
          "text": [
            "268/268 - 1s - loss: 0.5568 - accuracy: 0.7238 - 626ms/epoch - 2ms/step\n",
            "Loss: 0.556774914264679, Accuracy: 0.7238484025001526\n"
          ]
        }
      ]
    },
    {
      "cell_type": "code",
      "source": [
        "from tensorflow.keras.layers import BatchNormalization, Dropout\n",
        "\n",
        "# Optimized model with batch normalization and dropout\n",
        "optimized_nn_2 = tf.keras.models.Sequential()\n",
        "optimized_nn_2.add(tf.keras.layers.Dense(units=16, activation='relu', input_dim=len(X_train.columns)))\n",
        "optimized_nn_2.add(BatchNormalization())\n",
        "optimized_nn_2.add(Dropout(0.5))\n",
        "optimized_nn_2.add(tf.keras.layers.Dense(units=10, activation='relu'))\n",
        "optimized_nn_2.add(BatchNormalization())\n",
        "optimized_nn_2.add(Dropout(0.5))\n",
        "optimized_nn_2.add(tf.keras.layers.Dense(units=5, activation='relu'))\n",
        "optimized_nn_2.add(BatchNormalization())\n",
        "optimized_nn_2.add(Dropout(0.5))\n",
        "optimized_nn_2.add(tf.keras.layers.Dense(units=1, activation='sigmoid'))"
      ],
      "metadata": {
        "id": "Fi1eVooeTsi9"
      },
      "execution_count": 23,
      "outputs": []
    },
    {
      "cell_type": "code",
      "source": [
        "# Compile\n",
        "optimized_nn_2.compile(optimizer='adam', loss='binary_crossentropy', metrics=['accuracy'])"
      ],
      "metadata": {
        "id": "1s4AenZ3UAXV"
      },
      "execution_count": 24,
      "outputs": []
    },
    {
      "cell_type": "code",
      "source": [
        "# Train\n",
        "optimized_fit_model_2 = optimized_nn_2.fit(X_train_scaled, y_train, epochs=20, shuffle=True, verbose=2, validation_data=(X_test_scaled, y_test))"
      ],
      "metadata": {
        "id": "gQaUJMOvUB7u",
        "outputId": "4af9ed5e-fc7e-4e6c-f206-dde0d4bb9f1d",
        "colab": {
          "base_uri": "https://localhost:8080/"
        }
      },
      "execution_count": 25,
      "outputs": [
        {
          "output_type": "stream",
          "name": "stdout",
          "text": [
            "Epoch 1/20\n",
            "804/804 - 4s - loss: 0.7421 - accuracy: 0.5587 - val_loss: 0.6351 - val_accuracy: 0.6975 - 4s/epoch - 5ms/step\n",
            "Epoch 2/20\n",
            "804/804 - 3s - loss: 0.6587 - accuracy: 0.6187 - val_loss: 0.6203 - val_accuracy: 0.7058 - 3s/epoch - 4ms/step\n",
            "Epoch 3/20\n",
            "804/804 - 3s - loss: 0.6411 - accuracy: 0.6485 - val_loss: 0.6040 - val_accuracy: 0.7097 - 3s/epoch - 4ms/step\n",
            "Epoch 4/20\n",
            "804/804 - 2s - loss: 0.6268 - accuracy: 0.6751 - val_loss: 0.5894 - val_accuracy: 0.7142 - 2s/epoch - 3ms/step\n",
            "Epoch 5/20\n",
            "804/804 - 2s - loss: 0.6184 - accuracy: 0.6892 - val_loss: 0.5849 - val_accuracy: 0.7201 - 2s/epoch - 3ms/step\n",
            "Epoch 6/20\n",
            "804/804 - 3s - loss: 0.6121 - accuracy: 0.6957 - val_loss: 0.5788 - val_accuracy: 0.7234 - 3s/epoch - 3ms/step\n",
            "Epoch 7/20\n",
            "804/804 - 3s - loss: 0.6041 - accuracy: 0.7034 - val_loss: 0.5736 - val_accuracy: 0.7224 - 3s/epoch - 3ms/step\n",
            "Epoch 8/20\n",
            "804/804 - 3s - loss: 0.6037 - accuracy: 0.7026 - val_loss: 0.5725 - val_accuracy: 0.7241 - 3s/epoch - 4ms/step\n",
            "Epoch 9/20\n",
            "804/804 - 3s - loss: 0.6021 - accuracy: 0.7079 - val_loss: 0.5729 - val_accuracy: 0.7222 - 3s/epoch - 3ms/step\n",
            "Epoch 10/20\n",
            "804/804 - 2s - loss: 0.5995 - accuracy: 0.7104 - val_loss: 0.5732 - val_accuracy: 0.7221 - 2s/epoch - 3ms/step\n",
            "Epoch 11/20\n",
            "804/804 - 2s - loss: 0.5994 - accuracy: 0.7082 - val_loss: 0.5708 - val_accuracy: 0.7220 - 2s/epoch - 3ms/step\n",
            "Epoch 12/20\n",
            "804/804 - 3s - loss: 0.5962 - accuracy: 0.7143 - val_loss: 0.5697 - val_accuracy: 0.7250 - 3s/epoch - 3ms/step\n",
            "Epoch 13/20\n",
            "804/804 - 4s - loss: 0.5956 - accuracy: 0.7153 - val_loss: 0.5693 - val_accuracy: 0.7258 - 4s/epoch - 5ms/step\n",
            "Epoch 14/20\n",
            "804/804 - 3s - loss: 0.5965 - accuracy: 0.7110 - val_loss: 0.5686 - val_accuracy: 0.7227 - 3s/epoch - 4ms/step\n",
            "Epoch 15/20\n",
            "804/804 - 3s - loss: 0.5935 - accuracy: 0.7118 - val_loss: 0.5646 - val_accuracy: 0.7237 - 3s/epoch - 3ms/step\n",
            "Epoch 16/20\n",
            "804/804 - 3s - loss: 0.5934 - accuracy: 0.7150 - val_loss: 0.5667 - val_accuracy: 0.7238 - 3s/epoch - 3ms/step\n",
            "Epoch 17/20\n",
            "804/804 - 3s - loss: 0.5933 - accuracy: 0.7142 - val_loss: 0.5684 - val_accuracy: 0.7228 - 3s/epoch - 3ms/step\n",
            "Epoch 18/20\n",
            "804/804 - 3s - loss: 0.5925 - accuracy: 0.7162 - val_loss: 0.5651 - val_accuracy: 0.7243 - 3s/epoch - 4ms/step\n",
            "Epoch 19/20\n",
            "804/804 - 3s - loss: 0.5919 - accuracy: 0.7173 - val_loss: 0.5653 - val_accuracy: 0.7235 - 3s/epoch - 4ms/step\n",
            "Epoch 20/20\n",
            "804/804 - 3s - loss: 0.5893 - accuracy: 0.7154 - val_loss: 0.5644 - val_accuracy: 0.7227 - 3s/epoch - 3ms/step\n"
          ]
        }
      ]
    },
    {
      "cell_type": "code",
      "source": [
        "# Evaluate the model using the newly optimized data\n",
        "model_loss, model_accuracy = optimized_nn_2.evaluate(X_test_scaled,y_test,verbose=2)\n",
        "print(f\"Loss: {model_loss}, Accuracy: {model_accuracy}\")"
      ],
      "metadata": {
        "id": "3yeTBLHSUbOv",
        "outputId": "5b20a885-195e-4c60-e62b-ed8af91abbe7",
        "colab": {
          "base_uri": "https://localhost:8080/"
        }
      },
      "execution_count": 26,
      "outputs": [
        {
          "output_type": "stream",
          "name": "stdout",
          "text": [
            "268/268 - 1s - loss: 0.5644 - accuracy: 0.7227 - 598ms/epoch - 2ms/step\n",
            "Loss: 0.5643976330757141, Accuracy: 0.7226822376251221\n"
          ]
        }
      ]
    },
    {
      "cell_type": "code",
      "source": [
        "# Simpler optimized model\n",
        "optimized_nn_3 = tf.keras.models.Sequential()\n",
        "optimized_nn_3.add(tf.keras.layers.Dense(units=8, activation='relu', input_dim=len(X_train.columns)))\n",
        "optimized_nn_3.add(tf.keras.layers.Dense(units=4, activation='relu'))\n",
        "optimized_nn_3.add(tf.keras.layers.Dense(units=1, activation='sigmoid'))"
      ],
      "metadata": {
        "id": "7mGIskYcUyqH"
      },
      "execution_count": 27,
      "outputs": []
    },
    {
      "cell_type": "code",
      "source": [
        "# Compile with lower learning rate\n",
        "optimizer = tf.keras.optimizers.Adam(learning_rate=0.0005)\n",
        "optimized_nn_3.compile(optimizer=optimizer, loss='binary_crossentropy', metrics=['accuracy'])"
      ],
      "metadata": {
        "id": "BrpSkbeoU36j"
      },
      "execution_count": 29,
      "outputs": []
    },
    {
      "cell_type": "code",
      "source": [
        "# Train with increased epochs\n",
        "optimized_fit_model_3 = optimized_nn_3.fit(X_train_scaled, y_train, epochs=40, shuffle=True, verbose=2, validation_data=(X_test_scaled, y_test))"
      ],
      "metadata": {
        "id": "STmuI9ZbU7w9",
        "outputId": "9b5e65bd-fbdc-4977-94c0-4e12e7510447",
        "colab": {
          "base_uri": "https://localhost:8080/"
        }
      },
      "execution_count": 30,
      "outputs": [
        {
          "output_type": "stream",
          "name": "stdout",
          "text": [
            "Epoch 1/40\n",
            "804/804 - 3s - loss: 0.6467 - accuracy: 0.6447 - val_loss: 0.6144 - val_accuracy: 0.6772 - 3s/epoch - 4ms/step\n",
            "Epoch 2/40\n",
            "804/804 - 2s - loss: 0.5968 - accuracy: 0.6923 - val_loss: 0.5952 - val_accuracy: 0.6891 - 2s/epoch - 2ms/step\n",
            "Epoch 3/40\n",
            "804/804 - 2s - loss: 0.5849 - accuracy: 0.7042 - val_loss: 0.5878 - val_accuracy: 0.6987 - 2s/epoch - 3ms/step\n",
            "Epoch 4/40\n",
            "804/804 - 2s - loss: 0.5795 - accuracy: 0.7088 - val_loss: 0.5794 - val_accuracy: 0.7094 - 2s/epoch - 3ms/step\n",
            "Epoch 5/40\n",
            "804/804 - 2s - loss: 0.5695 - accuracy: 0.7213 - val_loss: 0.5746 - val_accuracy: 0.7100 - 2s/epoch - 3ms/step\n",
            "Epoch 6/40\n",
            "804/804 - 2s - loss: 0.5654 - accuracy: 0.7227 - val_loss: 0.5704 - val_accuracy: 0.7146 - 2s/epoch - 2ms/step\n",
            "Epoch 7/40\n",
            "804/804 - 2s - loss: 0.5619 - accuracy: 0.7254 - val_loss: 0.5667 - val_accuracy: 0.7199 - 2s/epoch - 2ms/step\n",
            "Epoch 8/40\n",
            "804/804 - 2s - loss: 0.5591 - accuracy: 0.7289 - val_loss: 0.5652 - val_accuracy: 0.7208 - 2s/epoch - 2ms/step\n",
            "Epoch 9/40\n",
            "804/804 - 2s - loss: 0.5577 - accuracy: 0.7287 - val_loss: 0.5637 - val_accuracy: 0.7199 - 2s/epoch - 2ms/step\n",
            "Epoch 10/40\n",
            "804/804 - 2s - loss: 0.5565 - accuracy: 0.7298 - val_loss: 0.5628 - val_accuracy: 0.7220 - 2s/epoch - 2ms/step\n",
            "Epoch 11/40\n",
            "804/804 - 2s - loss: 0.5556 - accuracy: 0.7296 - val_loss: 0.5623 - val_accuracy: 0.7216 - 2s/epoch - 3ms/step\n",
            "Epoch 12/40\n",
            "804/804 - 2s - loss: 0.5546 - accuracy: 0.7301 - val_loss: 0.5620 - val_accuracy: 0.7214 - 2s/epoch - 3ms/step\n",
            "Epoch 13/40\n",
            "804/804 - 2s - loss: 0.5540 - accuracy: 0.7299 - val_loss: 0.5614 - val_accuracy: 0.7224 - 2s/epoch - 2ms/step\n",
            "Epoch 14/40\n",
            "804/804 - 2s - loss: 0.5534 - accuracy: 0.7311 - val_loss: 0.5615 - val_accuracy: 0.7197 - 2s/epoch - 2ms/step\n",
            "Epoch 15/40\n",
            "804/804 - 2s - loss: 0.5529 - accuracy: 0.7308 - val_loss: 0.5610 - val_accuracy: 0.7216 - 2s/epoch - 2ms/step\n",
            "Epoch 16/40\n",
            "804/804 - 2s - loss: 0.5528 - accuracy: 0.7310 - val_loss: 0.5605 - val_accuracy: 0.7234 - 2s/epoch - 2ms/step\n",
            "Epoch 17/40\n",
            "804/804 - 2s - loss: 0.5525 - accuracy: 0.7310 - val_loss: 0.5605 - val_accuracy: 0.7228 - 2s/epoch - 2ms/step\n",
            "Epoch 18/40\n",
            "804/804 - 2s - loss: 0.5523 - accuracy: 0.7316 - val_loss: 0.5603 - val_accuracy: 0.7231 - 2s/epoch - 3ms/step\n",
            "Epoch 19/40\n",
            "804/804 - 2s - loss: 0.5519 - accuracy: 0.7315 - val_loss: 0.5600 - val_accuracy: 0.7227 - 2s/epoch - 3ms/step\n",
            "Epoch 20/40\n",
            "804/804 - 2s - loss: 0.5517 - accuracy: 0.7317 - val_loss: 0.5592 - val_accuracy: 0.7229 - 2s/epoch - 2ms/step\n",
            "Epoch 21/40\n",
            "804/804 - 2s - loss: 0.5516 - accuracy: 0.7319 - val_loss: 0.5596 - val_accuracy: 0.7231 - 2s/epoch - 2ms/step\n",
            "Epoch 22/40\n",
            "804/804 - 2s - loss: 0.5513 - accuracy: 0.7317 - val_loss: 0.5594 - val_accuracy: 0.7231 - 2s/epoch - 2ms/step\n",
            "Epoch 23/40\n",
            "804/804 - 2s - loss: 0.5508 - accuracy: 0.7315 - val_loss: 0.5593 - val_accuracy: 0.7226 - 2s/epoch - 2ms/step\n",
            "Epoch 24/40\n",
            "804/804 - 2s - loss: 0.5504 - accuracy: 0.7322 - val_loss: 0.5593 - val_accuracy: 0.7255 - 2s/epoch - 2ms/step\n",
            "Epoch 25/40\n",
            "804/804 - 2s - loss: 0.5501 - accuracy: 0.7319 - val_loss: 0.5591 - val_accuracy: 0.7255 - 2s/epoch - 2ms/step\n",
            "Epoch 26/40\n",
            "804/804 - 2s - loss: 0.5501 - accuracy: 0.7320 - val_loss: 0.5586 - val_accuracy: 0.7245 - 2s/epoch - 3ms/step\n",
            "Epoch 27/40\n",
            "804/804 - 2s - loss: 0.5496 - accuracy: 0.7322 - val_loss: 0.5579 - val_accuracy: 0.7250 - 2s/epoch - 3ms/step\n",
            "Epoch 28/40\n",
            "804/804 - 2s - loss: 0.5497 - accuracy: 0.7321 - val_loss: 0.5581 - val_accuracy: 0.7248 - 2s/epoch - 2ms/step\n",
            "Epoch 29/40\n",
            "804/804 - 2s - loss: 0.5494 - accuracy: 0.7326 - val_loss: 0.5578 - val_accuracy: 0.7247 - 2s/epoch - 2ms/step\n",
            "Epoch 30/40\n",
            "804/804 - 2s - loss: 0.5493 - accuracy: 0.7313 - val_loss: 0.5573 - val_accuracy: 0.7265 - 2s/epoch - 2ms/step\n",
            "Epoch 31/40\n",
            "804/804 - 2s - loss: 0.5492 - accuracy: 0.7319 - val_loss: 0.5580 - val_accuracy: 0.7251 - 2s/epoch - 2ms/step\n",
            "Epoch 32/40\n",
            "804/804 - 2s - loss: 0.5491 - accuracy: 0.7326 - val_loss: 0.5581 - val_accuracy: 0.7230 - 2s/epoch - 2ms/step\n",
            "Epoch 33/40\n",
            "804/804 - 2s - loss: 0.5490 - accuracy: 0.7320 - val_loss: 0.5581 - val_accuracy: 0.7252 - 2s/epoch - 3ms/step\n",
            "Epoch 34/40\n",
            "804/804 - 2s - loss: 0.5489 - accuracy: 0.7317 - val_loss: 0.5582 - val_accuracy: 0.7257 - 2s/epoch - 3ms/step\n",
            "Epoch 35/40\n",
            "804/804 - 2s - loss: 0.5487 - accuracy: 0.7313 - val_loss: 0.5579 - val_accuracy: 0.7241 - 2s/epoch - 2ms/step\n",
            "Epoch 36/40\n",
            "804/804 - 2s - loss: 0.5488 - accuracy: 0.7325 - val_loss: 0.5580 - val_accuracy: 0.7249 - 2s/epoch - 2ms/step\n",
            "Epoch 37/40\n",
            "804/804 - 2s - loss: 0.5486 - accuracy: 0.7332 - val_loss: 0.5576 - val_accuracy: 0.7251 - 2s/epoch - 2ms/step\n",
            "Epoch 38/40\n",
            "804/804 - 2s - loss: 0.5484 - accuracy: 0.7321 - val_loss: 0.5575 - val_accuracy: 0.7249 - 2s/epoch - 2ms/step\n",
            "Epoch 39/40\n",
            "804/804 - 2s - loss: 0.5485 - accuracy: 0.7318 - val_loss: 0.5570 - val_accuracy: 0.7236 - 2s/epoch - 2ms/step\n",
            "Epoch 40/40\n",
            "804/804 - 2s - loss: 0.5475 - accuracy: 0.7331 - val_loss: 0.5571 - val_accuracy: 0.7251 - 2s/epoch - 3ms/step\n"
          ]
        }
      ]
    },
    {
      "cell_type": "code",
      "source": [
        "# Evaluate the model using the simplified optimized data\n",
        "model_loss, model_accuracy = optimized_nn_3.evaluate(X_test_scaled,y_test,verbose=2)\n",
        "print(f\"Loss: {model_loss}, Accuracy: {model_accuracy}\")"
      ],
      "metadata": {
        "id": "zqxvkO6JVa1v",
        "outputId": "00550388-b66b-4289-fcee-b6d5d5512d35",
        "colab": {
          "base_uri": "https://localhost:8080/"
        }
      },
      "execution_count": 31,
      "outputs": [
        {
          "output_type": "stream",
          "name": "stdout",
          "text": [
            "268/268 - 1s - loss: 0.5571 - accuracy: 0.7251 - 1s/epoch - 4ms/step\n",
            "Loss: 0.5570860505104065, Accuracy: 0.7251312136650085\n"
          ]
        }
      ]
    },
    {
      "cell_type": "markdown",
      "source": [],
      "metadata": {
        "id": "RZ9t3q8sVvBL"
      }
    }
  ],
  "metadata": {
    "kernelspec": {
      "display_name": "Python 3",
      "language": "python",
      "name": "python3"
    },
    "language_info": {
      "codemirror_mode": {
        "name": "ipython",
        "version": 3
      },
      "file_extension": ".py",
      "mimetype": "text/x-python",
      "name": "python",
      "nbconvert_exporter": "python",
      "pygments_lexer": "ipython3",
      "version": "3.-1.-1"
    },
    "vscode": {
      "interpreter": {
        "hash": "31f2aee4e71d21fbe5cf8b01ff0e069b9275f58929596ceb00d14d90e3e16cd6"
      }
    },
    "colab": {
      "provenance": [],
      "include_colab_link": true
    }
  },
  "nbformat": 4,
  "nbformat_minor": 0
}